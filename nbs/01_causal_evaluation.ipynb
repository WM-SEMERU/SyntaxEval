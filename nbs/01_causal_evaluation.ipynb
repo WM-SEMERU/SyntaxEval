{
 "cells": [
  {
   "cell_type": "markdown",
   "metadata": {},
   "source": [
    "# Causal Evaluation \n",
    "> Using causal analysis to compute the influence of T on Y"
   ]
  },
  {
   "cell_type": "code",
   "execution_count": 1,
   "metadata": {},
   "outputs": [
    {
     "name": "stderr",
     "output_type": "stream",
     "text": [
      "<ipython-input-1-ac09909db896>:1: DeprecationWarning: Importing display from IPython.core.display is deprecated since IPython 7.14, please import from IPython display\n",
      "  from IPython.core.display import display, HTML\n"
     ]
    },
    {
     "data": {
      "text/html": [
       "<style>.container { width:100% !important; }</style>"
      ],
      "text/plain": [
       "<IPython.core.display.HTML object>"
      ]
     },
     "metadata": {},
     "output_type": "display_data"
    }
   ],
   "source": [
    "from IPython.core.display import display, HTML\n",
    "display(HTML(\"<style>.container { width:100% !important; }</style>\"))"
   ]
  },
  {
   "cell_type": "code",
   "execution_count": 2,
   "metadata": {},
   "outputs": [],
   "source": [
    "#! pip install dowhy\n",
    "from dowhy import CausalModel\n",
    "import dowhy.datasets"
   ]
  },
  {
   "cell_type": "code",
   "execution_count": 3,
   "metadata": {},
   "outputs": [],
   "source": [
    "from pathlib import Path\n",
    "import csv\n",
    "import seaborn as sns; sns.set_theme()\n",
    "import matplotlib.pyplot as plt\n",
    "import pandas as pd\n",
    "import numpy as np\n",
    "import functools\n",
    "\n",
    "pd.options.display.float_format = '{:.2f}'.format"
   ]
  },
  {
   "cell_type": "code",
   "execution_count": 4,
   "metadata": {},
   "outputs": [],
   "source": [
    "import seaborn as sns\n",
    "sns.set_theme(style=\"darkgrid\")\n"
   ]
  },
  {
   "cell_type": "code",
   "execution_count": 5,
   "metadata": {},
   "outputs": [],
   "source": [
    "%matplotlib inline"
   ]
  },
  {
   "attachments": {},
   "cell_type": "markdown",
   "metadata": {},
   "source": [
    "## Load Data Samples"
   ]
  },
  {
   "cell_type": "code",
   "execution_count": 6,
   "metadata": {},
   "outputs": [],
   "source": [
    "#Load data samples\n",
    "eval_df = pd.read_csv(\n",
    "    '/workspaces/CodeCheckList/data/linguistic_capabilities/huggingface-CodeBERTa-small-v1_100.0_20.csv',\n",
    "    index_col=0\n",
    "    )"
   ]
  },
  {
   "cell_type": "code",
   "execution_count": 7,
   "metadata": {},
   "outputs": [
    {
     "data": {
      "text/html": [
       "<div>\n",
       "<style scoped>\n",
       "    .dataframe tbody tr th:only-of-type {\n",
       "        vertical-align: middle;\n",
       "    }\n",
       "\n",
       "    .dataframe tbody tr th {\n",
       "        vertical-align: top;\n",
       "    }\n",
       "\n",
       "    .dataframe thead th {\n",
       "        text-align: right;\n",
       "    }\n",
       "</style>\n",
       "<table border=\"1\" class=\"dataframe\">\n",
       "  <thead>\n",
       "    <tr style=\"text-align: right;\">\n",
       "      <th></th>\n",
       "      <th>sample_id</th>\n",
       "      <th>ast_element</th>\n",
       "      <th>sample</th>\n",
       "      <th>masking_rate</th>\n",
       "      <th>numper_of_masked_tokens</th>\n",
       "      <th>ast_element_ocurrences</th>\n",
       "      <th>mask_jaccard</th>\n",
       "      <th>mask_sorensen_dice</th>\n",
       "      <th>mask_levenshtein</th>\n",
       "      <th>mask_random_avg_jaccard</th>\n",
       "      <th>...</th>\n",
       "      <th>mask_random_std_jaccard</th>\n",
       "      <th>mask_random_std_sorensen_dice</th>\n",
       "      <th>mask_random_std_levenshtein</th>\n",
       "      <th>n_ast_errors</th>\n",
       "      <th>ast_levels</th>\n",
       "      <th>n_whitespaces_</th>\n",
       "      <th>complexity</th>\n",
       "      <th>nloc</th>\n",
       "      <th>token_counts</th>\n",
       "      <th>n_ast_nodes</th>\n",
       "    </tr>\n",
       "  </thead>\n",
       "  <tbody>\n",
       "    <tr>\n",
       "      <th>0</th>\n",
       "      <td>0</td>\n",
       "      <td>comparison_operator</td>\n",
       "      <td>def test_should_generate_secret_with_specified...</td>\n",
       "      <td>1.00</td>\n",
       "      <td>20</td>\n",
       "      <td>1</td>\n",
       "      <td>0.85</td>\n",
       "      <td>0.92</td>\n",
       "      <td>0.90</td>\n",
       "      <td>0.98</td>\n",
       "      <td>...</td>\n",
       "      <td>0.03</td>\n",
       "      <td>0.01</td>\n",
       "      <td>0.02</td>\n",
       "      <td>0</td>\n",
       "      <td>15</td>\n",
       "      <td>29</td>\n",
       "      <td>1</td>\n",
       "      <td>15</td>\n",
       "      <td>50</td>\n",
       "      <td>96</td>\n",
       "    </tr>\n",
       "    <tr>\n",
       "      <th>1</th>\n",
       "      <td>0</td>\n",
       "      <td>identifier</td>\n",
       "      <td>def test_should_generate_secret_with_specified...</td>\n",
       "      <td>1.00</td>\n",
       "      <td>24</td>\n",
       "      <td>9</td>\n",
       "      <td>0.82</td>\n",
       "      <td>0.90</td>\n",
       "      <td>0.83</td>\n",
       "      <td>0.94</td>\n",
       "      <td>...</td>\n",
       "      <td>0.05</td>\n",
       "      <td>0.03</td>\n",
       "      <td>0.04</td>\n",
       "      <td>0</td>\n",
       "      <td>15</td>\n",
       "      <td>29</td>\n",
       "      <td>1</td>\n",
       "      <td>15</td>\n",
       "      <td>50</td>\n",
       "      <td>96</td>\n",
       "    </tr>\n",
       "  </tbody>\n",
       "</table>\n",
       "<p>2 rows × 22 columns</p>\n",
       "</div>"
      ],
      "text/plain": [
       "   sample_id          ast_element  \\\n",
       "0          0  comparison_operator   \n",
       "1          0           identifier   \n",
       "\n",
       "                                              sample  masking_rate  \\\n",
       "0  def test_should_generate_secret_with_specified...          1.00   \n",
       "1  def test_should_generate_secret_with_specified...          1.00   \n",
       "\n",
       "   numper_of_masked_tokens  ast_element_ocurrences  mask_jaccard  \\\n",
       "0                       20                       1          0.85   \n",
       "1                       24                       9          0.82   \n",
       "\n",
       "   mask_sorensen_dice  mask_levenshtein  mask_random_avg_jaccard  ...  \\\n",
       "0                0.92              0.90                     0.98  ...   \n",
       "1                0.90              0.83                     0.94  ...   \n",
       "\n",
       "   mask_random_std_jaccard  mask_random_std_sorensen_dice  \\\n",
       "0                     0.03                           0.01   \n",
       "1                     0.05                           0.03   \n",
       "\n",
       "   mask_random_std_levenshtein  n_ast_errors  ast_levels  n_whitespaces_  \\\n",
       "0                         0.02             0          15              29   \n",
       "1                         0.04             0          15              29   \n",
       "\n",
       "   complexity  nloc  token_counts  n_ast_nodes  \n",
       "0           1    15            50           96  \n",
       "1           1    15            50           96  \n",
       "\n",
       "[2 rows x 22 columns]"
      ]
     },
     "execution_count": 7,
     "metadata": {},
     "output_type": "execute_result"
    }
   ],
   "source": [
    "eval_df.head(2)"
   ]
  },
  {
   "cell_type": "code",
   "execution_count": 9,
   "metadata": {},
   "outputs": [
    {
     "data": {
      "text/plain": [
       "Index(['sample_id', 'ast_element', 'sample', 'masking_rate',\n",
       "       'numper_of_masked_tokens', 'ast_element_ocurrences', 'mask_jaccard',\n",
       "       'mask_sorensen_dice', 'mask_levenshtein', 'mask_random_avg_jaccard',\n",
       "       'mask_random_avg_sorensen_dice', 'mask_random_avg_levenshtein',\n",
       "       'mask_random_std_jaccard', 'mask_random_std_sorensen_dice',\n",
       "       'mask_random_std_levenshtein', 'n_ast_errors', 'ast_levels',\n",
       "       'n_whitespaces_', 'complexity', 'nloc', 'token_counts', 'n_ast_nodes'],\n",
       "      dtype='object')"
      ]
     },
     "execution_count": 9,
     "metadata": {},
     "output_type": "execute_result"
    }
   ],
   "source": [
    "eval_df.columns"
   ]
  },
  {
   "cell_type": "code",
   "execution_count": 36,
   "metadata": {},
   "outputs": [
    {
     "data": {
      "image/png": "[encoded data removed]",
      "text/latex": [
       "$\\displaystyle 45613$"
      ],
      "text/plain": [
       "45613"
      ]
     },
     "execution_count": 36,
     "metadata": {},
     "output_type": "execute_result"
    }
   ],
   "source": [
    "eval_df.shape[0]"
   ]
  },
  {
   "cell_type": "code",
   "execution_count": 67,
   "metadata": {},
   "outputs": [],
   "source": [
    "data_dict = {\n",
    "    'ast_concept' : np.concatenate((eval_df.ast_element.values, eval_df.ast_element.values), axis=None),\n",
    "    't_binary_treatment' : [True] * eval_df.shape[0] + [False] * eval_df.shape[0],\n",
    "    'y_jaccard' :  np.concatenate((eval_df.mask_jaccard.values, eval_df.mask_random_avg_jaccard.values), axis=None),\n",
    "    'y_levenshtein' :  np.concatenate((eval_df.mask_levenshtein.values, eval_df.mask_random_avg_levenshtein.values), axis=None),\n",
    "    'y_sorensen' :  np.concatenate((eval_df.mask_sorensen_dice.values, eval_df.mask_random_std_sorensen_dice.values), axis=None),\n",
    "    'z_n_ast_errors' : np.concatenate((eval_df.n_ast_errors.values, eval_df.n_ast_errors.values), axis=None),\n",
    "    'z_ast_levels' : np.concatenate((eval_df.ast_levels.values, eval_df.ast_levels.values), axis=None),\n",
    "    'z_n_whitespaces' : np.concatenate((eval_df.n_whitespaces_.values, eval_df.n_whitespaces_.values), axis=None),\n",
    "    'z_complexity' : np.concatenate((eval_df.complexity.values, eval_df.complexity.values), axis=None),\n",
    "    'z_nloc' : np.concatenate((eval_df.nloc.values, eval_df.nloc.values), axis=None),\n",
    "    'z_token_counts' : np.concatenate((eval_df.token_counts.values, eval_df.token_counts.values), axis=None),\n",
    "    'z_n_ast_nodes' : np.concatenate((eval_df.n_ast_nodes.values, eval_df.n_ast_nodes.values), axis=None)\n",
    "}"
   ]
  },
  {
   "cell_type": "code",
   "execution_count": 68,
   "metadata": {},
   "outputs": [],
   "source": [
    "causal_data_df = pd.DataFrame(data=data_dict)"
   ]
  },
  {
   "cell_type": "code",
   "execution_count": 69,
   "metadata": {},
   "outputs": [
    {
     "data": {
      "text/html": [
       "<div>\n",
       "<style scoped>\n",
       "    .dataframe tbody tr th:only-of-type {\n",
       "        vertical-align: middle;\n",
       "    }\n",
       "\n",
       "    .dataframe tbody tr th {\n",
       "        vertical-align: top;\n",
       "    }\n",
       "\n",
       "    .dataframe thead th {\n",
       "        text-align: right;\n",
       "    }\n",
       "</style>\n",
       "<table border=\"1\" class=\"dataframe\">\n",
       "  <thead>\n",
       "    <tr style=\"text-align: right;\">\n",
       "      <th></th>\n",
       "      <th>ast_concept</th>\n",
       "      <th>t_binary_treatment</th>\n",
       "      <th>y_jaccard</th>\n",
       "      <th>y_levenshtein</th>\n",
       "      <th>y_sorensen</th>\n",
       "      <th>z_n_ast_errors</th>\n",
       "      <th>z_ast_levels</th>\n",
       "      <th>z_n_whitespaces</th>\n",
       "      <th>z_complexity</th>\n",
       "      <th>z_nloc</th>\n",
       "      <th>z_token_counts</th>\n",
       "      <th>z_n_ast_nodes</th>\n",
       "    </tr>\n",
       "  </thead>\n",
       "  <tbody>\n",
       "    <tr>\n",
       "      <th>0</th>\n",
       "      <td>comparison_operator</td>\n",
       "      <td>True</td>\n",
       "      <td>0.85</td>\n",
       "      <td>0.90</td>\n",
       "      <td>0.92</td>\n",
       "      <td>0</td>\n",
       "      <td>15</td>\n",
       "      <td>29</td>\n",
       "      <td>1</td>\n",
       "      <td>15</td>\n",
       "      <td>50</td>\n",
       "      <td>96</td>\n",
       "    </tr>\n",
       "    <tr>\n",
       "      <th>1</th>\n",
       "      <td>identifier</td>\n",
       "      <td>True</td>\n",
       "      <td>0.82</td>\n",
       "      <td>0.83</td>\n",
       "      <td>0.90</td>\n",
       "      <td>0</td>\n",
       "      <td>15</td>\n",
       "      <td>29</td>\n",
       "      <td>1</td>\n",
       "      <td>15</td>\n",
       "      <td>50</td>\n",
       "      <td>96</td>\n",
       "    </tr>\n",
       "    <tr>\n",
       "      <th>2</th>\n",
       "      <td>string</td>\n",
       "      <td>True</td>\n",
       "      <td>0.42</td>\n",
       "      <td>0.39</td>\n",
       "      <td>0.60</td>\n",
       "      <td>0</td>\n",
       "      <td>15</td>\n",
       "      <td>29</td>\n",
       "      <td>1</td>\n",
       "      <td>15</td>\n",
       "      <td>50</td>\n",
       "      <td>96</td>\n",
       "    </tr>\n",
       "    <tr>\n",
       "      <th>3</th>\n",
       "      <td>parameters</td>\n",
       "      <td>True</td>\n",
       "      <td>0.86</td>\n",
       "      <td>0.88</td>\n",
       "      <td>0.93</td>\n",
       "      <td>0</td>\n",
       "      <td>15</td>\n",
       "      <td>29</td>\n",
       "      <td>1</td>\n",
       "      <td>15</td>\n",
       "      <td>50</td>\n",
       "      <td>96</td>\n",
       "    </tr>\n",
       "    <tr>\n",
       "      <th>4</th>\n",
       "      <td>comparison_operator</td>\n",
       "      <td>True</td>\n",
       "      <td>0.50</td>\n",
       "      <td>0.51</td>\n",
       "      <td>0.67</td>\n",
       "      <td>0</td>\n",
       "      <td>15</td>\n",
       "      <td>29</td>\n",
       "      <td>1</td>\n",
       "      <td>17</td>\n",
       "      <td>46</td>\n",
       "      <td>90</td>\n",
       "    </tr>\n",
       "  </tbody>\n",
       "</table>\n",
       "</div>"
      ],
      "text/plain": [
       "           ast_concept  t_binary_treatment  y_jaccard  y_levenshtein  \\\n",
       "0  comparison_operator                True       0.85           0.90   \n",
       "1           identifier                True       0.82           0.83   \n",
       "2               string                True       0.42           0.39   \n",
       "3           parameters                True       0.86           0.88   \n",
       "4  comparison_operator                True       0.50           0.51   \n",
       "\n",
       "   y_sorensen  z_n_ast_errors  z_ast_levels  z_n_whitespaces  z_complexity  \\\n",
       "0        0.92               0            15               29             1   \n",
       "1        0.90               0            15               29             1   \n",
       "2        0.60               0            15               29             1   \n",
       "3        0.93               0            15               29             1   \n",
       "4        0.67               0            15               29             1   \n",
       "\n",
       "   z_nloc  z_token_counts  z_n_ast_nodes  \n",
       "0      15              50             96  \n",
       "1      15              50             96  \n",
       "2      15              50             96  \n",
       "3      15              50             96  \n",
       "4      17              46             90  "
      ]
     },
     "execution_count": 69,
     "metadata": {},
     "output_type": "execute_result"
    }
   ],
   "source": [
    "causal_data_df.head()"
   ]
  },
  {
   "cell_type": "code",
   "execution_count": 70,
   "metadata": {},
   "outputs": [
    {
     "data": {
      "text/html": [
       "<div>\n",
       "<style scoped>\n",
       "    .dataframe tbody tr th:only-of-type {\n",
       "        vertical-align: middle;\n",
       "    }\n",
       "\n",
       "    .dataframe tbody tr th {\n",
       "        vertical-align: top;\n",
       "    }\n",
       "\n",
       "    .dataframe thead th {\n",
       "        text-align: right;\n",
       "    }\n",
       "</style>\n",
       "<table border=\"1\" class=\"dataframe\">\n",
       "  <thead>\n",
       "    <tr style=\"text-align: right;\">\n",
       "      <th></th>\n",
       "      <th>y_jaccard</th>\n",
       "      <th>y_levenshtein</th>\n",
       "      <th>y_sorensen</th>\n",
       "      <th>z_n_ast_errors</th>\n",
       "      <th>z_ast_levels</th>\n",
       "      <th>z_n_whitespaces</th>\n",
       "      <th>z_complexity</th>\n",
       "      <th>z_nloc</th>\n",
       "      <th>z_token_counts</th>\n",
       "      <th>z_n_ast_nodes</th>\n",
       "    </tr>\n",
       "  </thead>\n",
       "  <tbody>\n",
       "    <tr>\n",
       "      <th>count</th>\n",
       "      <td>91226.00</td>\n",
       "      <td>91226.00</td>\n",
       "      <td>91226.00</td>\n",
       "      <td>91226.00</td>\n",
       "      <td>91226.00</td>\n",
       "      <td>91226.00</td>\n",
       "      <td>91226.00</td>\n",
       "      <td>91226.00</td>\n",
       "      <td>91226.00</td>\n",
       "      <td>91226.00</td>\n",
       "    </tr>\n",
       "    <tr>\n",
       "      <th>mean</th>\n",
       "      <td>0.83</td>\n",
       "      <td>0.83</td>\n",
       "      <td>0.46</td>\n",
       "      <td>0.05</td>\n",
       "      <td>11.58</td>\n",
       "      <td>39.66</td>\n",
       "      <td>2.58</td>\n",
       "      <td>12.71</td>\n",
       "      <td>87.94</td>\n",
       "      <td>143.63</td>\n",
       "    </tr>\n",
       "    <tr>\n",
       "      <th>std</th>\n",
       "      <td>0.19</td>\n",
       "      <td>0.19</td>\n",
       "      <td>0.42</td>\n",
       "      <td>0.30</td>\n",
       "      <td>3.04</td>\n",
       "      <td>33.41</td>\n",
       "      <td>2.56</td>\n",
       "      <td>10.55</td>\n",
       "      <td>70.49</td>\n",
       "      <td>108.94</td>\n",
       "    </tr>\n",
       "    <tr>\n",
       "      <th>min</th>\n",
       "      <td>0.00</td>\n",
       "      <td>0.00</td>\n",
       "      <td>0.00</td>\n",
       "      <td>0.00</td>\n",
       "      <td>4.00</td>\n",
       "      <td>2.00</td>\n",
       "      <td>1.00</td>\n",
       "      <td>1.00</td>\n",
       "      <td>5.00</td>\n",
       "      <td>8.00</td>\n",
       "    </tr>\n",
       "    <tr>\n",
       "      <th>25%</th>\n",
       "      <td>0.74</td>\n",
       "      <td>0.74</td>\n",
       "      <td>0.03</td>\n",
       "      <td>0.00</td>\n",
       "      <td>10.00</td>\n",
       "      <td>15.00</td>\n",
       "      <td>1.00</td>\n",
       "      <td>5.00</td>\n",
       "      <td>36.00</td>\n",
       "      <td>59.00</td>\n",
       "    </tr>\n",
       "    <tr>\n",
       "      <th>50%</th>\n",
       "      <td>0.89</td>\n",
       "      <td>0.90</td>\n",
       "      <td>0.25</td>\n",
       "      <td>0.00</td>\n",
       "      <td>11.00</td>\n",
       "      <td>29.00</td>\n",
       "      <td>1.00</td>\n",
       "      <td>10.00</td>\n",
       "      <td>69.00</td>\n",
       "      <td>114.00</td>\n",
       "    </tr>\n",
       "    <tr>\n",
       "      <th>75%</th>\n",
       "      <td>0.98</td>\n",
       "      <td>0.99</td>\n",
       "      <td>0.91</td>\n",
       "      <td>0.00</td>\n",
       "      <td>13.00</td>\n",
       "      <td>55.00</td>\n",
       "      <td>3.00</td>\n",
       "      <td>18.00</td>\n",
       "      <td>121.00</td>\n",
       "      <td>202.00</td>\n",
       "    </tr>\n",
       "    <tr>\n",
       "      <th>max</th>\n",
       "      <td>1.00</td>\n",
       "      <td>1.00</td>\n",
       "      <td>1.00</td>\n",
       "      <td>19.00</td>\n",
       "      <td>27.00</td>\n",
       "      <td>214.00</td>\n",
       "      <td>45.00</td>\n",
       "      <td>171.00</td>\n",
       "      <td>1130.00</td>\n",
       "      <td>648.00</td>\n",
       "    </tr>\n",
       "  </tbody>\n",
       "</table>\n",
       "</div>"
      ],
      "text/plain": [
       "       y_jaccard  y_levenshtein  y_sorensen  z_n_ast_errors  z_ast_levels  \\\n",
       "count   91226.00       91226.00    91226.00        91226.00      91226.00   \n",
       "mean        0.83           0.83        0.46            0.05         11.58   \n",
       "std         0.19           0.19        0.42            0.30          3.04   \n",
       "min         0.00           0.00        0.00            0.00          4.00   \n",
       "25%         0.74           0.74        0.03            0.00         10.00   \n",
       "50%         0.89           0.90        0.25            0.00         11.00   \n",
       "75%         0.98           0.99        0.91            0.00         13.00   \n",
       "max         1.00           1.00        1.00           19.00         27.00   \n",
       "\n",
       "       z_n_whitespaces  z_complexity   z_nloc  z_token_counts  z_n_ast_nodes  \n",
       "count         91226.00      91226.00 91226.00        91226.00       91226.00  \n",
       "mean             39.66          2.58    12.71           87.94         143.63  \n",
       "std              33.41          2.56    10.55           70.49         108.94  \n",
       "min               2.00          1.00     1.00            5.00           8.00  \n",
       "25%              15.00          1.00     5.00           36.00          59.00  \n",
       "50%              29.00          1.00    10.00           69.00         114.00  \n",
       "75%              55.00          3.00    18.00          121.00         202.00  \n",
       "max             214.00         45.00   171.00         1130.00         648.00  "
      ]
     },
     "execution_count": 70,
     "metadata": {},
     "output_type": "execute_result"
    }
   ],
   "source": [
    "causal_data_df.describe()"
   ]
  },
  {
   "attachments": {},
   "cell_type": "markdown",
   "metadata": {},
   "source": [
    "## I. Create a causal model from the data and given graph.\n"
   ]
  },
  {
   "cell_type": "code",
   "execution_count": 71,
   "metadata": {},
   "outputs": [],
   "source": [
    "causal_model = CausalModel(\n",
    "    data = causal_data_df,\n",
    "    treatment = ['t_binary_treatment'],\n",
    "    outcome = ['y_levenshtein'],\n",
    "    common_causes = ['z_token_counts','z_nloc']\n",
    ")"
   ]
  },
  {
   "attachments": {},
   "cell_type": "markdown",
   "metadata": {},
   "source": [
    "## II. Identify causal effect and return target estimands.\n"
   ]
  },
  {
   "cell_type": "code",
   "execution_count": 72,
   "metadata": {},
   "outputs": [],
   "source": [
    "identified_estimand = causal_model.identify_effect()"
   ]
  },
  {
   "attachments": {},
   "cell_type": "markdown",
   "metadata": {},
   "source": [
    "# III. Estimate the target estimand using a statistical method.\n"
   ]
  },
  {
   "cell_type": "code",
   "execution_count": 73,
   "metadata": {},
   "outputs": [],
   "source": [
    "estimate = causal_model.estimate_effect(identified_estimand,\n",
    "                                 method_name=\"backdoor.propensity_score_matching\")"
   ]
  },
  {
   "cell_type": "code",
   "execution_count": null,
   "metadata": {},
   "outputs": [],
   "source": [
    "estimate"
   ]
  },
  {
   "attachments": {},
   "cell_type": "markdown",
   "metadata": {},
   "source": [
    "# IV. Refute the obtained estimate using multiple robustness checks."
   ]
  },
  {
   "cell_type": "code",
   "execution_count": 74,
   "metadata": {},
   "outputs": [],
   "source": [
    "refute_results = causal_model.refute_estimate(\n",
    "    identified_estimand, \n",
    "    estimate,\n",
    "    method_name=\"random_common_cause\"\n",
    "    )"
   ]
  },
  {
   "cell_type": "code",
   "execution_count": null,
   "metadata": {},
   "outputs": [],
   "source": [
    "refute_results"
   ]
  }
 ],
 "metadata": {
  "kernelspec": {
   "display_name": "Python 3",
   "language": "python",
   "name": "python3"
  },
  "language_info": {
   "codemirror_mode": {
    "name": "ipython",
    "version": 3
   },
   "file_extension": ".py",
   "mimetype": "text/x-python",
   "name": "python",
   "nbconvert_exporter": "python",
   "pygments_lexer": "ipython3",
   "version": "3.8.10"
  },
  "orig_nbformat": 4
 },
 "nbformat": 4,
 "nbformat_minor": 2
}
