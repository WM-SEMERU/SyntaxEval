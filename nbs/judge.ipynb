{
 "cells": [
  {
   "attachments": {},
   "cell_type": "markdown",
   "metadata": {},
   "source": [
    "# Judge Class to encapsulate similarity assestments"
   ]
  },
  {
   "cell_type": "code",
   "execution_count": null,
   "metadata": {},
   "outputs": [],
   "source": [
    "#| default_exp judge"
   ]
  },
  {
   "cell_type": "code",
   "execution_count": 1,
   "metadata": {},
   "outputs": [
    {
     "name": "stderr",
     "output_type": "stream",
     "text": [
      "/home/svelascodimate/miniconda3/envs/code-check-list/lib/python3.10/site-packages/tqdm/auto.py:22: TqdmWarning: IProgress not found. Please update jupyter and ipywidgets. See https://ipywidgets.readthedocs.io/en/stable/user_install.html\n",
      "  from .autonotebook import tqdm as notebook_tqdm\n"
     ]
    }
   ],
   "source": [
    "#| export\n",
    "import time\n",
    "from CodeCheckList.tokenizer import CodeTokenizer\n",
    "import CodeCheckList.utils as utils\n",
    "from func_timeout import func_set_timeout, FunctionTimedOut\n",
    "from multiprocessing import Process, Queue\n",
    "import textdistance"
   ]
  },
  {
   "cell_type": "code",
   "execution_count": null,
   "metadata": {},
   "outputs": [],
   "source": [
    "#| hide\n",
    "from nbdev.showdoc import *"
   ]
  },
  {
   "cell_type": "code",
   "execution_count": 2,
   "metadata": {},
   "outputs": [],
   "source": [
    "#| export\n",
    "class Judge:\n",
    "    \"\"\"Judge Module to perform all similarity evaluations in a sandbox\"\"\"\n",
    "    def __init__(self, tokenizer: CodeTokenizer):\n",
    "        self.tokenizer = tokenizer\n",
    "    \n",
    "    def __call__(self, original_source_code, predicted_source_code):\n",
    "        def parse_code(queue, parser, original_source_code, predicted_source_code):\n",
    "            source_code_tree = self.tokenizer.parser.parse(bytes(original_source_code, \"utf8\"))\n",
    "            predicted_code_tree = self.tokenizer.parser.parse(bytes(predicted_source_code, \"utf8\"))\n",
    "            predicted_code_types = utils.get_node_type_list(predicted_code_tree.root_node)\n",
    "            source_code_types = utils.get_node_type_list(source_code_tree.root_node)\n",
    "            jaccard_similarity = textdistance.jaccard.normalized_similarity(predicted_code_types,source_code_types)\n",
    "            sorensen_dice_similarity = textdistance.sorensen_dice.normalized_similarity(predicted_code_types, source_code_types)\n",
    "            levenshtein_similarity = textdistance.levenshtein.normalized_similarity(predicted_code_types,source_code_types)\n",
    "            queue.put([jaccard_similarity, sorensen_dice_similarity, levenshtein_similarity])\n",
    "    \n",
    "        @func_set_timeout(5)\n",
    "        def get_parser_result(queue):\n",
    "            return queue.get()\n",
    "    \n",
    "        queue = Queue()\n",
    "        parser_process = Process(target=parse_code, args=(queue, self.tokenizer.parser, original_source_code, predicted_source_code))\n",
    "        parser_process.start()\n",
    "        result = [0,0,0]\n",
    "        try:\n",
    "            result = get_parser_result(queue)\n",
    "        except FunctionTimedOut as e:\n",
    "            if parser_process.is_alive():\n",
    "                print('-judge deadlock-')\n",
    "                parser_process.kill()\n",
    "        return result"
   ]
  },
  {
   "attachments": {},
   "cell_type": "markdown",
   "metadata": {},
   "source": [
    "### Testing"
   ]
  },
  {
   "cell_type": "code",
   "execution_count": 3,
   "metadata": {},
   "outputs": [],
   "source": [
    "tokenizer = CodeTokenizer.from_pretrained(\"huggingface/CodeBERTa-small-v1\", \"python\")\n",
    "judge = Judge(tokenizer)"
   ]
  },
  {
   "cell_type": "code",
   "execution_count": 4,
   "metadata": {},
   "outputs": [],
   "source": [
    "code = \"def m(a,b):\\n    r__urn a*b_________\"\n",
    "assert judge(code, code) != [0,0,0]"
   ]
  },
  {
   "cell_type": "code",
   "execution_count": 5,
   "metadata": {},
   "outputs": [
    {
     "name": "stdout",
     "output_type": "stream",
     "text": [
      "-judge deadlock-\n"
     ]
    }
   ],
   "source": [
    "code = \"def scale(self, center=True, scale=True):\\n        \\\"\\\"\\\"\\nthe the\\n\\n\\n                                                                                                                                                          _\\n                     ____________=_=_===========________===______________________________==_____________________\\n_______\\n____\\n\\n___\\n\\n\\n\\n\\n\\n\\n\\n\\n        return return)\"\n",
    "assert judge(code, code) == [0,0,0]"
   ]
  }
 ],
 "metadata": {
  "kernelspec": {
   "display_name": "Python 3",
   "language": "python",
   "name": "python3"
  },
  "language_info": {
   "codemirror_mode": {
    "name": "ipython",
    "version": 3
   },
   "file_extension": ".py",
   "mimetype": "text/x-python",
   "name": "python",
   "nbconvert_exporter": "python",
   "pygments_lexer": "ipython3",
   "version": "3.10.8 (main, Nov  4 2022, 13:48:29) [GCC 11.2.0]"
  },
  "orig_nbformat": 4,
  "vscode": {
   "interpreter": {
    "hash": "5dfa21b9ea908da29bde2e75ccf59a8bff4851a5152f1f941db0158f4a372e7e"
   }
  }
 },
 "nbformat": 4,
 "nbformat_minor": 2
}
