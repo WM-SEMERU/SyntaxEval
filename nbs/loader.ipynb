{
 "cells": [
  {
   "cell_type": "markdown",
   "metadata": {},
   "source": [
    "# CLI MODULE"
   ]
  },
  {
   "cell_type": "code",
   "execution_count": null,
   "metadata": {},
   "outputs": [],
   "source": [
    "#| default_exp loader"
   ]
  },
  {
   "cell_type": "code",
   "execution_count": null,
   "metadata": {},
   "outputs": [],
   "source": [
    "#| export\n",
    "import CodeCheckList\n",
    "\n",
    "from fastcore.script import *\n",
    "from git import Git, Repo\n",
    "from pathlib import Path\n",
    "from tree_sitter import Language"
   ]
  },
  {
   "cell_type": "code",
   "execution_count": null,
   "metadata": {},
   "outputs": [],
   "source": [
    "#| hide\n",
    "from nbdev.showdoc import *"
   ]
  },
  {
   "cell_type": "code",
   "execution_count": null,
   "metadata": {},
   "outputs": [],
   "source": [
    "#| export\n",
    "_GRAMMARs = {\n",
    "    \"python\": (\"https://github.com/tree-sitter/tree-sitter-python.git\", \"tree-sitter-python\", \"v0.20.0\"),\n",
    "}"
   ]
  },
  {
   "cell_type": "code",
   "execution_count": null,
   "metadata": {},
   "outputs": [],
   "source": [
    "#| export\n",
    "def download_grammars(\n",
    "    #languages: Param(\"Languages to download\", str, nargs=\"+\") = \"all\",\n",
    "    languages\n",
    "):\n",
    "    \"\"\"Download Tree-sitter grammars\"\"\"\n",
    "    try:\n",
    "        grammars = _GRAMMARs if languages == \"all\" else {k: _GRAMMARs[k] for k in languages}\n",
    "    except KeyError as e:\n",
    "        raise ValueError(f\"Invalid or unsupported language: {e}. Supported languages: {list(_GRAMMARs.keys())}\")\n",
    "\n",
    "    langs = []\n",
    "    grammar_dir = Path(CodeCheckList.__file__).parent / \"grammars\"\n",
    "    print(grammar_dir)\n",
    "    grammar_dir.mkdir(exist_ok=True)\n",
    "    for lang, (url, dir, tag) in grammars.items():\n",
    "        repo_dir = grammar_dir / dir\n",
    "        if not repo_dir.exists():\n",
    "            repo = Repo.clone_from(url, repo_dir)\n",
    "        g = Git(str(repo_dir))\n",
    "        g.checkout(tag)\n",
    "        langs.append(str(repo_dir))\n",
    "    \n",
    "    Language.build_library(\n",
    "        # Store the library in the directory\n",
    "        str(grammar_dir / \"tree-sitter-languages.so\"),\n",
    "        # Include one or more languages\n",
    "        langs\n",
    "    )"
   ]
  }
 ],
 "metadata": {
  "kernelspec": {
   "display_name": "Python 3.10.8 (conda)",
   "language": "python",
   "name": "python3"
  },
  "language_info": {
   "name": "python",
   "version": "3.10.8 (main, Nov  4 2022, 13:48:29) [GCC 11.2.0]"
  },
  "vscode": {
   "interpreter": {
    "hash": "5dfa21b9ea908da29bde2e75ccf59a8bff4851a5152f1f941db0158f4a372e7e"
   }
  }
 },
 "nbformat": 4,
 "nbformat_minor": 2
}
