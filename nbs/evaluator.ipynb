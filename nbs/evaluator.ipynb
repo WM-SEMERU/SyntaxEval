{
 "cells": [
  {
   "attachments": {},
   "cell_type": "markdown",
   "metadata": {},
   "source": [
    "# Evaluator Module"
   ]
  },
  {
   "cell_type": "code",
   "execution_count": 1,
   "metadata": {},
   "outputs": [],
   "source": [
    "#| default_exp evaluator"
   ]
  },
  {
   "cell_type": "code",
   "execution_count": 2,
   "metadata": {},
   "outputs": [
    {
     "name": "stderr",
     "output_type": "stream",
     "text": [
      "/usr/lib/python3/dist-packages/requests/__init__.py:89: RequestsDependencyWarning: urllib3 (2.0.3) or chardet (3.0.4) doesn't match a supported version!\n",
      "  warnings.warn(\"urllib3 ({}) or chardet ({}) doesn't match a supported \"\n"
     ]
    }
   ],
   "source": [
    "#| export\n",
    "import os\n",
    "import pandas as pd\n",
    "\n",
    "import CodeCheckList.utils as utils\n",
    "from CodeCheckList.tokenizer import CodeTokenizer\n",
    "from CodeCheckList.masker import Masker\n",
    "from CodeCheckList.predictor import Predictor\n",
    "from CodeCheckList.judge import Judge\n",
    "\n",
    "import statistics\n",
    "import textdistance"
   ]
  },
  {
   "cell_type": "code",
   "execution_count": 3,
   "metadata": {},
   "outputs": [],
   "source": [
    "#| hide\n",
    "from nbdev.showdoc import *"
   ]
  },
  {
   "cell_type": "code",
   "execution_count": 4,
   "metadata": {},
   "outputs": [],
   "source": [
    "#| export\n",
    "class Evaluator:\n",
    "    \"\"\"Evaluator Module to perform all AST Evaluations\"\"\"\n",
    "    def __init__(self, checkpoint: str, language, gpu_available=False):\n",
    "        os.environ[\"TOKENIZERS_PARALLELISM\"] = \"true\"\n",
    "        self.tokenizer = CodeTokenizer.from_pretrained(checkpoint, language)\n",
    "        self.masker = Masker(self.tokenizer)\n",
    "        self.predictor = Predictor.from_pretrained(checkpoint, self.tokenizer, gpu_available)\n",
    "        self.judge = Judge(self.tokenizer)\n",
    "\n",
    "    def __call__(self, test_set, concepts: list, masking_rate: float):\n",
    "        result_list = self.evaluate_concepts_in_test_set(concepts, test_set, masking_rate)\n",
    "        results_dataframe = pd.DataFrame([], columns=[\n",
    "            'sample_id', 'ast_element', 'sample', 'masking_rate', \n",
    "            'ast_element_ocurrences','mask_jaccard', 'mask_sorensen_dice', 'mask_levenshtein', \n",
    "            'mask_random_jaccard', 'mask_random_sorensen_dice', 'mask_random_levenshtein'\n",
    "            ]) ## TODO ADD CONFOUNDERS\n",
    "        for result_index, result in enumerate(result_list):\n",
    "            results_dataframe.loc[len(results_dataframe.index)] = result\n",
    "        return results_dataframe\n",
    "    \n",
    "    def pipeline(self, test_set, number_of_predictions: int, masking_rate: float):\n",
    "        \"\"\"Deprecated\"\"\"\n",
    "        results_dict = self.evaluate_test_set(test_set, number_of_predictions, masking_rate)\n",
    "        results_dataframe = pd.DataFrame([], columns=[\n",
    "            'ast_element', 'occurences', 'jaccard', 'sorensen_dice', 'levenshtein', 'jaccard_avg', 'sorensen_dice_avg', 'levenshtein_avg'])\n",
    "        for result_index, result in enumerate(results_dict):\n",
    "            results_dataframe.loc[len(results_dataframe.index)] = [self.tokenizer.node_types[result_index], result[0], tuple(tuple(l) for l in result[1]), tuple(tuple(l) for l in result[2]), tuple(tuple(l) for l in result[3]), tuple(result[4]), tuple(result[5]), tuple(result[6])]\n",
    "        return results_dataframe\n",
    "    \n",
    "    def evaluate_test_set(self, test_set, number_of_predictions: int, masking_rate: float):\n",
    "        \"\"\"Deprecated\"\"\"\n",
    "        results_dict = []\n",
    "        for node_type in self.tokenizer.node_types:\n",
    "            results_dict.append([0,                                           #ocurrences\n",
    "                                [[] for i in range(0,number_of_predictions)], #jaccard per prediction\n",
    "                                [[] for i in range(0,number_of_predictions)], #sorensen_dice per prediction\n",
    "                                [[] for i in range(0,number_of_predictions)], #levenshtein per prediction\n",
    "                                [0 for i in range(0,number_of_predictions)],  #avg jaccard per prediction\n",
    "                                [0 for i in range(0,number_of_predictions)],  #avg sorensen_dice per prediction\n",
    "                                [0 for i in range(0,number_of_predictions)],  #avg levenshtein per prediction\n",
    "                                ])\n",
    "        for sample_index, sample in enumerate(test_set):\n",
    "            print('-------- evaluating sample:'+str(sample_index)+' --------')\n",
    "            for node_type_idx, node_type in enumerate(self.tokenizer.node_types):\n",
    "                node_type_results = self.evaluate_node_type_on_snippet(sample['whole_func_string'], node_type_idx, number_of_predictions, masking_rate)\n",
    "                if(len(node_type_results)>0):\n",
    "                    results_dict[node_type_idx][0] += node_type_results[0][0]\n",
    "                    for prediction_number_index in range(0, number_of_predictions):\n",
    "                        if(node_type_results[prediction_number_index][1]!=None):\n",
    "                            results_dict[node_type_idx][1][prediction_number_index].append(node_type_results[prediction_number_index][1])\n",
    "                            results_dict[node_type_idx][4][prediction_number_index] = round(statistics.mean(results_dict[node_type_idx][1][prediction_number_index]),3)\n",
    "                        if(node_type_results[prediction_number_index][2]!=None):\n",
    "                            results_dict[node_type_idx][2][prediction_number_index].append(node_type_results[prediction_number_index][2])\n",
    "                            results_dict[node_type_idx][5][prediction_number_index] = round(statistics.mean(results_dict[node_type_idx][2][prediction_number_index]),3)\n",
    "                        if(node_type_results[prediction_number_index][3]!=None):\n",
    "                            results_dict[node_type_idx][3][prediction_number_index].append(node_type_results[prediction_number_index][3])\n",
    "                            results_dict[node_type_idx][6][prediction_number_index] = round(statistics.mean(results_dict[node_type_idx][3][prediction_number_index]),3)\n",
    "        return results_dict\n",
    "        \n",
    "    def evaluate_node_type_on_snippet(self, source_code: str, target_node_type_idx: int, number_of_predictions: int, masking_rate: float):\n",
    "        results=[]\n",
    "        source_code_tree = self.tokenizer.parser.parse(bytes(source_code, \"utf8\"))\n",
    "        source_code_nodes = []\n",
    "        utils.find_nodes(source_code_tree.root_node, self.tokenizer.node_types[target_node_type_idx], source_code_nodes)\n",
    "        if len(source_code_nodes) == 0:\n",
    "            return results\n",
    "        masked_code_encoding = self.masker(source_code, self.tokenizer(source_code), target_node_type_idx, masking_rate)\n",
    "        predictions = self.predictor(masked_code_encoding, self.tokenizer.tokenizer(source_code, return_tensors='pt'), number_of_predictions)  \n",
    "        for prediction_number in range(0, number_of_predictions):\n",
    "            predicted_code = predictions[prediction_number]\n",
    "            prediction_results = self.judge(source_code, predicted_code)\n",
    "            results.append([len(source_code_nodes), prediction_results[0], prediction_results[1], prediction_results[2]])\n",
    "        return results\n",
    "    \n",
    "    def evaluate_random_mask_on_snippet(self, source_code: str, number_of_predictions:int, masking_rate: float):\n",
    "        results=[]\n",
    "        masked_code_encoding = self.masker(source_code, self.tokenizer(source_code), 0, masking_rate, True)\n",
    "        predictions = self.predictor(masked_code_encoding, self.tokenizer.tokenizer(source_code, return_tensors='pt'), number_of_predictions)\n",
    "        for prediction_number in range(0, number_of_predictions):\n",
    "            predicted_code = predictions[prediction_number]\n",
    "            prediction_results = self.judge(source_code, predicted_code)\n",
    "            results.append([0, prediction_results[0], prediction_results[1], prediction_results[2]])\n",
    "        return results\n",
    "    \n",
    "    def evaluate_concepts_in_test_set(self, concepts: list, test_set, masking_rate: float):\n",
    "        test_set_results = []\n",
    "        for sample_index, sample in enumerate(test_set):\n",
    "            print('-------- evaluating sample:'+str(sample_index)+' --------')\n",
    "            random_mask_results = self.evaluate_random_mask_on_snippet(sample['whole_func_string'], 1, masking_rate)\n",
    "            for concept in concepts: \n",
    "                concept_mask_results = self.evaluate_node_type_on_snippet(sample['whole_func_string'], self.tokenizer.node_types.index(concept), 1, masking_rate)\n",
    "                if len(concept_mask_results)>0:\n",
    "                    test_set_results.append([sample_index, concept, sample['whole_func_string'], masking_rate,\n",
    "                                            concept_mask_results[0][0], concept_mask_results[0][1], concept_mask_results[0][2], concept_mask_results[0][3], \n",
    "                                            random_mask_results[0][1], random_mask_results[0][2], random_mask_results[0][3]]) #TODO ADD CONFOUNDERS\n",
    "        return test_set_results\n"
   ]
  },
  {
   "attachments": {},
   "cell_type": "markdown",
   "metadata": {},
   "source": [
    "## Full Pipeline"
   ]
  },
  {
   "attachments": {},
   "cell_type": "markdown",
   "metadata": {},
   "source": [
    "### Download Grammar"
   ]
  },
  {
   "cell_type": "code",
   "execution_count": 5,
   "metadata": {},
   "outputs": [
    {
     "name": "stdout",
     "output_type": "stream",
     "text": [
      "/usr/local/lib/python3.8/dist-packages/CodeCheckList/grammars\n"
     ]
    }
   ],
   "source": [
    "#|eval: false\n",
    "from CodeCheckList import loader\n",
    "\n",
    "\"\"\"define language\"\"\"\n",
    "python_language = \"python\"\n",
    "\n",
    "languages = [python_language]\n",
    "\n",
    "loader.download_grammars(languages)"
   ]
  },
  {
   "attachments": {},
   "cell_type": "markdown",
   "metadata": {},
   "source": [
    "### Load Model"
   ]
  },
  {
   "cell_type": "code",
   "execution_count": 6,
   "metadata": {},
   "outputs": [],
   "source": [
    "#|eval: false\n",
    "\"\"\"define the model checkpoint\"\"\"\n",
    "checkpoint = \"huggingface/CodeBERTa-small-v1\""
   ]
  },
  {
   "attachments": {},
   "cell_type": "markdown",
   "metadata": {},
   "source": [
    "### Create Modules"
   ]
  },
  {
   "cell_type": "code",
   "execution_count": 7,
   "metadata": {},
   "outputs": [],
   "source": [
    "#|eval: false\n",
    "from CodeCheckList.tokenizer import CodeTokenizer\n",
    "from CodeCheckList.masker import Masker\n",
    "\n",
    "#create code tokenizer \n",
    "bert_tokenizer = CodeTokenizer.from_pretrained(checkpoint, python_language)\n",
    "\n",
    "#create code masker\n",
    "code_masker = Masker(bert_tokenizer)"
   ]
  },
  {
   "attachments": {},
   "cell_type": "markdown",
   "metadata": {},
   "source": [
    "### Node Types"
   ]
  },
  {
   "cell_type": "code",
   "execution_count": 8,
   "metadata": {},
   "outputs": [
    {
     "name": "stdout",
     "output_type": "stream",
     "text": [
      "['import_from_statement', '%', 'class_definition', '>>', 'nonlocal_statement', 'except_clause', 'async', 'while_statement', '*', 'tuple', '**=', 'for_in_clause', 'not_operator', '==', 'parenthesized_list_splat', 'with_item', '/=', 'parameter', 'as_pattern_target', 'expression_list', '>>=', 'call', 'elif', ')', 'and', 'delete_statement', 'or', 'pair', 'ERROR', 'wildcard_import', 'return_statement', '.', 'primary_expression', 'case', 'break_statement', 'named_expression', 'binary_operator', 'finally_clause', 'typed_default_parameter', 'comparison_operator', 'module', 'list_pattern', 'expression', '+', 'format_expression', 'default_parameter', '|', '=', 'parenthesized_expression', 'lambda', 'is', 'generator_expression', 'function_definition', 'as', 'assert', 'float', 'future_import_statement', 'dictionary_splat_pattern', 'keyword_argument', ':', 'nonlocal', 'pattern', 'tuple_pattern', 'false', 'slice', 'except', 'positional_separator', 'del', 'if', 'unary_operator', 'subscript', 'else_clause', 'exec_statement', '/', '@=', 'ellipsis', '<<', 'expression_statement', ',', 'conditional_expression', ':=', 'await', 'with_clause', '*=', 'dictionary', 'with', 'for', 'as_pattern', 'keyword_separator', 'break', 'chevron', '-', 'dictionary_comprehension', 'integer', 'case_clause', '&', 'in', '[', '{{', '<', '//=', '<<=', 'typed_parameter', 'list_splat', '>', 'decorator', 'lambda_parameters', 'if_statement', '//', '!=', 'comment', 'decorated_definition', 'match_statement', 'raise_statement', '^', 'format_specifier', 'block', 'argument_list', '@', '{', ']', 'exec', 'augmented_assignment', 'try', '&=', 'while', '}}', 'aliased_import', 'escape_sequence', 'assignment', '->', '}', '_compound_statement', '__future__', 'case_pattern', 'string', 'import_prefix', 'raise', 'from', 'pass', 'import_statement', 'with_statement', '(', 'try_statement', 'global_statement', 'return', '~', 'not', 'parameters', 'none', 'interpolation', 'identifier', 'print_statement', 'else', 'continue_statement', 'pass_statement', 'attribute', 'finally', 'assert_statement', 'list_splat_pattern', '^=', '>=', '<=', 'continue', 'set', 'yield', 'relative_import', '+=', 'type_conversion', 'boolean_operator', '-=', 'class', '**', 'list', 'true', 'match', '<>', '%=', 'pattern_list', '|=', 'import', 'global', 'if_clause', 'concatenated_string', 'def', ';', 'dictionary_splat', 'elif_clause', 'print', '\"', '_simple_statement', 'for_statement', 'type', 'set_comprehension', 'list_comprehension', 'dotted_name']\n"
     ]
    }
   ],
   "source": [
    "#|eval: false\n",
    "print(bert_tokenizer.node_types)"
   ]
  },
  {
   "attachments": {},
   "cell_type": "markdown",
   "metadata": {},
   "source": [
    "### Encodings"
   ]
  },
  {
   "cell_type": "code",
   "execution_count": 9,
   "metadata": {},
   "outputs": [
    {
     "name": "stdout",
     "output_type": "stream",
     "text": [
      "def<mask><mask><mask>(<mask>,<mask>):\n",
      "    return<mask>*<mask>\n"
     ]
    }
   ],
   "source": [
    "#|eval: false\n",
    "\"\"\"example source code\"\"\"\n",
    "\n",
    "code = \"def multiply_numbers(a,b):\\n    return a*b\"\n",
    "#code = \"def scale(self, center=True, scale=True):\\n        \\\"\\\"\\\"\\nthe the\\n\\n\\n                                                                                                                                                          _\\n                     ____________=_=_===========________===______________________________==_____________________\\n_______\\n____\\n\\n___\\n\\n\\n\\n\\n\\n\\n\\n\\n        return return)\"\n",
    "#code = \"def hello_world(a,b):\\n    print('hello world')\"\n",
    "#code = \"def __ordered_values_by_indexes(self, data, inds): \\\"\\\"\\\" Return values (intensities) by indexes. Used for multiscale graph cut. data = [[0 1 1], [0 2 2], [0 2 2]] inds = [[0 1 2], [3 4 4], [5 4 4]] return: [0, 1, 1, 0, 2, 0] If the data are not consistent, it will take the maximal value \\\"\\\"\\\" # get unique labels and their first indexes # lab, linds = np.unique(inds, return_index=True) # compute values by indexes # values = data.reshape(-1)[linds] # alternative slow implementation # if there are different data on same index, it will take # maximal value # lab = np.unique(inds) # values = [0]*len(lab) # for label in lab: # values[label] = np.max(data[inds == label]) # # values = np.asarray(values) # yet another implementation values = [None] * (np.max(inds) + 1) linear_inds = inds.ravel() linear_data = data.ravel() for i in range(0, len(linear_inds)): # going over all data pixels if values[linear_inds[i]] is None: # this index is found for first values[linear_inds[i]] = linear_data[i] elif values[linear_inds[i]] < linear_data[i]: # here can be changed maximal or minimal value values[linear_inds[i]] = linear_data[i] values = np.asarray(values) return values\"\n",
    "#code = \"def __ordered_values_by_indexes(self, data, inds):  # get unique labels and their first indexes # lab, linds = np.unique(inds, return_index=True) # compute values by indexes # values = data.reshape(-1)[linds] # alternative slow implementation # if there are different data on same index, it will take # maximal value # lab = np.unique(inds) # values = [0]*len(lab) # for label in lab: # values[label] = np.max(data[inds == label]) # # values = np.asarray(values) # yet another implementation values = [None] * (np.max(inds) + 1) linear_inds = inds.ravel() linear_data = data.ravel() for i in range(0, len(linear_inds)): # going over all data pixels if values[linear_inds[i]] is None: # this index is found for first values[linear_inds[i]] = linear_data[i] elif values[linear_inds[i]] < linear_data[i]: # here can be changed maximal or minimal value values[linear_inds[i]] = linear_data[i] values = np.asarray(values) return values\"\n",
    "target_node_type = \"identifier\"\n",
    "\n",
    "#encoding \n",
    "source_code_encoding = bert_tokenizer(code)\n",
    "\n",
    "#masking\n",
    "masked_code_encoding = code_masker(code, bert_tokenizer(code), bert_tokenizer.node_types.index(target_node_type), 1)\n",
    "\n",
    "assert len(source_code_encoding['input_ids']) == len(masked_code_encoding['input_ids'])\n",
    "\n",
    "#masked code\n",
    "masked_code = bert_tokenizer.tokenizer.decode(list(filter(lambda token_id: False if token_id == bert_tokenizer.tokenizer.bos_token_id or \n",
    "            token_id == bert_tokenizer.tokenizer.eos_token_id else True, masked_code_encoding['input_ids'])))\n",
    "\n",
    "print(masked_code)"
   ]
  },
  {
   "attachments": {},
   "cell_type": "markdown",
   "metadata": {},
   "source": [
    "### Code Prediction"
   ]
  },
  {
   "cell_type": "code",
   "execution_count": 10,
   "metadata": {},
   "outputs": [],
   "source": [
    "#|eval: false\n",
    "from CodeCheckList.predictor import Predictor\n",
    "\n",
    "predictor = Predictor.from_pretrained(checkpoint, bert_tokenizer)\n",
    "predictions = predictor(masked_code_encoding, bert_tokenizer.tokenizer(code, return_tensors='pt'), 5)"
   ]
  },
  {
   "attachments": {},
   "cell_type": "markdown",
   "metadata": {},
   "source": [
    "### Evaluation"
   ]
  },
  {
   "cell_type": "code",
   "execution_count": 11,
   "metadata": {},
   "outputs": [
    {
     "name": "stdout",
     "output_type": "stream",
     "text": [
      "------------- CODE -------------\n",
      "def multiply_numbers(a,b):\n",
      "    return a*b\n",
      "\n",
      "---------- MASKED -------------\n",
      "def<mask><mask><mask>(<mask>,<mask>):\n",
      "    return<mask>*<mask>\n",
      "\n",
      "--------- PREDICTED -----------\n",
      "def __function(name, value):\n",
      "    return f*args\n",
      "\n",
      "--------- AST COMPARE -----------\n",
      "5\n",
      "5\n"
     ]
    }
   ],
   "source": [
    "#|eval: false\n",
    "import CodeCheckList.utils as utils\n",
    "\n",
    "prediction_number = 0\n",
    "print('------------- CODE -------------')\n",
    "print(code)\n",
    "print('\\n---------- MASKED -------------')\n",
    "print(masked_code)\n",
    "print('\\n--------- PREDICTED -----------')\n",
    "predicted_code = predictions[prediction_number]\n",
    "print(predicted_code)\n",
    "print('\\n--------- AST COMPARE -----------')\n",
    "filtered_nodes = []\n",
    "filtered_nodes_predict = []\n",
    "utils.find_nodes(bert_tokenizer.parser.parse(bytes(code, \"utf8\")).root_node, bert_tokenizer.node_types[bert_tokenizer.node_types.index(target_node_type)], filtered_nodes)\n",
    "utils.find_nodes(bert_tokenizer.parser.parse(bytes(predicted_code, \"utf8\")).root_node, bert_tokenizer.node_types[bert_tokenizer.node_types.index(target_node_type)], filtered_nodes_predict)\n",
    "print(len(filtered_nodes))\n",
    "print(len(filtered_nodes_predict))\n",
    "#base the evaluation on size comparison"
   ]
  },
  {
   "attachments": {},
   "cell_type": "markdown",
   "metadata": {},
   "source": [
    "## Testing"
   ]
  },
  {
   "cell_type": "code",
   "execution_count": 12,
   "metadata": {},
   "outputs": [
    {
     "name": "stdout",
     "output_type": "stream",
     "text": [
      "510\n"
     ]
    },
    {
     "name": "stderr",
     "output_type": "stream",
     "text": [
      "No config specified, defaulting to: code_search_net/all\n",
      "Found cached dataset code_search_net (/root/.cache/huggingface/datasets/code_search_net/all/1.0.0/8f2524e6b62f65af5f5d65c53715c654db7b08dc93e0b7bcce2ab2f286a75be1)\n",
      "Parameter 'function'=<function get_test_sets.<locals>.<lambda> at 0x7f4c6a702160> of the transform datasets.arrow_dataset.Dataset.filter@2.0.1 couldn't be hashed properly, a random hash was used instead. Make sure your transforms and parameters are serializable with pickle or dill for the dataset fingerprinting and caching to work. If you reuse this transform, the caching mechanism will consider it to be different from the previous calls and recompute everything. This warning is only showed once. Subsequent hashing failures won't be showed.\n"
     ]
    },
    {
     "data": {
      "application/vnd.jupyter.widget-view+json": {
       "model_id": "39d8fc79740f4448a0789b5297b564a6",
       "version_major": 2,
       "version_minor": 0
      },
      "text/plain": [
       "Filter:   0%|          | 0/100529 [00:00<?, ? examples/s]"
      ]
     },
     "metadata": {},
     "output_type": "display_data"
    },
    {
     "name": "stderr",
     "output_type": "stream",
     "text": [
      "Token indices sequence length is longer than the specified maximum sequence length for this model (517 > 512). Running this sequence through the model will result in indexing errors\n"
     ]
    }
   ],
   "source": [
    "#|eval: false\n",
    "from datasets import load_dataset \n",
    "import CodeCheckList.utils as utils\n",
    "\n",
    "\n",
    "evaluator = Evaluator(checkpoint, python_language)\n",
    "\n",
    "max_token_number = bert_tokenizer.tokenizer.max_len_single_sentence\n",
    "print(max_token_number)\n",
    "\n",
    "test_set = load_dataset(\"code_search_net\", split='test')\n",
    "test_set = utils.get_test_sets(test_set, python_language, max_token_number, bert_tokenizer)"
   ]
  },
  {
   "cell_type": "code",
   "execution_count": 13,
   "metadata": {},
   "outputs": [
    {
     "name": "stdout",
     "output_type": "stream",
     "text": [
      "def get_vid_from_url(url):\n",
      "        \"\"\"Extracts video ID from URL.\n",
      "        \"\"\"\n",
      "        return match1(url, r'youtu\\.be/([^?/]+)') or \\\n",
      "          match1(url, r'youtube\\.com/embed/([^/?]+)') or \\\n",
      "          match1(url, r'youtube\\.com/v/([^/?]+)') or \\\n",
      "          match1(url, r'youtube\\.com/watch/([^/?]+)') or \\\n",
      "          parse_query_param(url, 'v') or \\\n",
      "          parse_query_param(parse_query_param(url, 'u'), 'v')\n"
     ]
    }
   ],
   "source": [
    "#|eval: false\n",
    "print(test_set[0]['whole_func_string'])"
   ]
  },
  {
   "cell_type": "code",
   "execution_count": 14,
   "metadata": {},
   "outputs": [
    {
     "name": "stdout",
     "output_type": "stream",
     "text": [
      "TOTAL PYTHON FILTERED SAMPLES: 19408\n"
     ]
    },
    {
     "name": "stderr",
     "output_type": "stream",
     "text": [
      "No config specified, defaulting to: code_search_net/all\n",
      "Found cached dataset code_search_net (/root/.cache/huggingface/datasets/code_search_net/all/1.0.0/8f2524e6b62f65af5f5d65c53715c654db7b08dc93e0b7bcce2ab2f286a75be1)\n"
     ]
    },
    {
     "data": {
      "application/vnd.jupyter.widget-view+json": {
       "model_id": "cf06d341461642f28d5a1a2d2478ce04",
       "version_major": 2,
       "version_minor": 0
      },
      "text/plain": [
       "Filter:   0%|          | 0/100529 [00:00<?, ? examples/s]"
      ]
     },
     "metadata": {},
     "output_type": "display_data"
    },
    {
     "name": "stderr",
     "output_type": "stream",
     "text": [
      "Token indices sequence length is longer than the specified maximum sequence length for this model (517 > 512). Running this sequence through the model will result in indexing errors\n"
     ]
    },
    {
     "name": "stdout",
     "output_type": "stream",
     "text": [
      "TOTAL SAMPLES TO EVALUATE: 5\n"
     ]
    },
    {
     "data": {
      "text/plain": [
       "5"
      ]
     },
     "execution_count": 14,
     "metadata": {},
     "output_type": "execute_result"
    }
   ],
   "source": [
    "#|eval: false\n",
    "print('TOTAL PYTHON FILTERED SAMPLES: '+str(len(test_set)))\n",
    "test_set = utils.get_random_sub_set_test_set(utils.get_test_sets(load_dataset(\"code_search_net\", split='test'), \"python\", evaluator.tokenizer.tokenizer.max_len_single_sentence, evaluator.tokenizer), 5)\n",
    "print('TOTAL SAMPLES TO EVALUATE: '+str(len(test_set)))\n",
    "len(test_set)"
   ]
  },
  {
   "cell_type": "code",
   "execution_count": 17,
   "metadata": {},
   "outputs": [
    {
     "name": "stdout",
     "output_type": "stream",
     "text": [
      "-------- evaluating sample:0 --------\n",
      "-------- evaluating sample:1 --------\n",
      "-------- evaluating sample:2 --------\n",
      "-------- evaluating sample:3 --------\n",
      "-------- evaluating sample:4 --------\n"
     ]
    },
    {
     "data": {
      "text/html": [
       "<div>\n",
       "<style scoped>\n",
       "    .dataframe tbody tr th:only-of-type {\n",
       "        vertical-align: middle;\n",
       "    }\n",
       "\n",
       "    .dataframe tbody tr th {\n",
       "        vertical-align: top;\n",
       "    }\n",
       "\n",
       "    .dataframe thead th {\n",
       "        text-align: right;\n",
       "    }\n",
       "</style>\n",
       "<table border=\"1\" class=\"dataframe\">\n",
       "  <thead>\n",
       "    <tr style=\"text-align: right;\">\n",
       "      <th></th>\n",
       "      <th>sample_id</th>\n",
       "      <th>ast_element</th>\n",
       "      <th>sample</th>\n",
       "      <th>masking_rate</th>\n",
       "      <th>ast_element_ocurrences</th>\n",
       "      <th>mask_jaccard</th>\n",
       "      <th>mask_sorensen_dice</th>\n",
       "      <th>mask_levenshtein</th>\n",
       "      <th>mask_random_jaccard</th>\n",
       "      <th>mask_random_sorensen_dice</th>\n",
       "      <th>mask_random_levenshtein</th>\n",
       "    </tr>\n",
       "  </thead>\n",
       "  <tbody>\n",
       "    <tr>\n",
       "      <th>0</th>\n",
       "      <td>0</td>\n",
       "      <td>identifier</td>\n",
       "      <td>def initialize_archive_manager(self, archive_p...</td>\n",
       "      <td>0.2</td>\n",
       "      <td>12</td>\n",
       "      <td>1.000000</td>\n",
       "      <td>1.000000</td>\n",
       "      <td>1.000000</td>\n",
       "      <td>0.950000</td>\n",
       "      <td>0.974359</td>\n",
       "      <td>0.950000</td>\n",
       "    </tr>\n",
       "    <tr>\n",
       "      <th>1</th>\n",
       "      <td>1</td>\n",
       "      <td>identifier</td>\n",
       "      <td>def addStream(self, stream, t1=None, t2=None, ...</td>\n",
       "      <td>0.2</td>\n",
       "      <td>26</td>\n",
       "      <td>1.000000</td>\n",
       "      <td>1.000000</td>\n",
       "      <td>1.000000</td>\n",
       "      <td>1.000000</td>\n",
       "      <td>1.000000</td>\n",
       "      <td>1.000000</td>\n",
       "    </tr>\n",
       "    <tr>\n",
       "      <th>2</th>\n",
       "      <td>2</td>\n",
       "      <td>identifier</td>\n",
       "      <td>def all_month_events(self, year, month, catego...</td>\n",
       "      <td>0.2</td>\n",
       "      <td>71</td>\n",
       "      <td>0.962963</td>\n",
       "      <td>0.981132</td>\n",
       "      <td>0.925466</td>\n",
       "      <td>0.952532</td>\n",
       "      <td>0.975689</td>\n",
       "      <td>0.901274</td>\n",
       "    </tr>\n",
       "    <tr>\n",
       "      <th>3</th>\n",
       "      <td>3</td>\n",
       "      <td>identifier</td>\n",
       "      <td>def get_an_int(self, arg, msg_on_error, min_va...</td>\n",
       "      <td>0.2</td>\n",
       "      <td>34</td>\n",
       "      <td>0.982036</td>\n",
       "      <td>0.990937</td>\n",
       "      <td>0.982036</td>\n",
       "      <td>0.975904</td>\n",
       "      <td>0.987805</td>\n",
       "      <td>0.987805</td>\n",
       "    </tr>\n",
       "    <tr>\n",
       "      <th>4</th>\n",
       "      <td>4</td>\n",
       "      <td>identifier</td>\n",
       "      <td>def hours_minutes_seconds(value):\\n    \"\"\"conv...</td>\n",
       "      <td>0.2</td>\n",
       "      <td>28</td>\n",
       "      <td>1.000000</td>\n",
       "      <td>1.000000</td>\n",
       "      <td>1.000000</td>\n",
       "      <td>0.951515</td>\n",
       "      <td>0.975155</td>\n",
       "      <td>0.944444</td>\n",
       "    </tr>\n",
       "  </tbody>\n",
       "</table>\n",
       "</div>"
      ],
      "text/plain": [
       "   sample_id ast_element                                             sample  \\\n",
       "0          0  identifier  def initialize_archive_manager(self, archive_p...   \n",
       "1          1  identifier  def addStream(self, stream, t1=None, t2=None, ...   \n",
       "2          2  identifier  def all_month_events(self, year, month, catego...   \n",
       "3          3  identifier  def get_an_int(self, arg, msg_on_error, min_va...   \n",
       "4          4  identifier  def hours_minutes_seconds(value):\\n    \"\"\"conv...   \n",
       "\n",
       "   masking_rate  ast_element_ocurrences  mask_jaccard  mask_sorensen_dice  \\\n",
       "0           0.2                      12      1.000000            1.000000   \n",
       "1           0.2                      26      1.000000            1.000000   \n",
       "2           0.2                      71      0.962963            0.981132   \n",
       "3           0.2                      34      0.982036            0.990937   \n",
       "4           0.2                      28      1.000000            1.000000   \n",
       "\n",
       "   mask_levenshtein  mask_random_jaccard  mask_random_sorensen_dice  \\\n",
       "0          1.000000             0.950000                   0.974359   \n",
       "1          1.000000             1.000000                   1.000000   \n",
       "2          0.925466             0.952532                   0.975689   \n",
       "3          0.982036             0.975904                   0.987805   \n",
       "4          1.000000             0.951515                   0.975155   \n",
       "\n",
       "   mask_random_levenshtein  \n",
       "0                 0.950000  \n",
       "1                 1.000000  \n",
       "2                 0.901274  \n",
       "3                 0.987805  \n",
       "4                 0.944444  "
      ]
     },
     "execution_count": 17,
     "metadata": {},
     "output_type": "execute_result"
    }
   ],
   "source": [
    "#|eval: false\n",
    "number_of_predictions = 3\n",
    "checkpoint = \"huggingface/CodeBERTa-small-v1\"\n",
    "python_language = \"python\"\n",
    "masking_rate = 0.2\n",
    "\n",
    "evaluator = Evaluator(checkpoint, python_language, gpu_available=False)\n",
    "\n",
    "#results_dataframe = evaluator(test_set, number_of_predictions, masking_rate)\n",
    "results_dataframe = evaluator(test_set, ['identifier'], masking_rate)\n",
    "\n",
    "#results_dataframe.sort_values(by=['occurences'], ascending=False)\n",
    "\n",
    "results_dataframe\n"
   ]
  }
 ],
 "metadata": {
  "kernelspec": {
   "display_name": "Python 3",
   "language": "python",
   "name": "python3"
  },
  "language_info": {
   "codemirror_mode": {
    "name": "ipython",
    "version": 3
   },
   "file_extension": ".py",
   "mimetype": "text/x-python",
   "name": "python",
   "nbconvert_exporter": "python",
   "pygments_lexer": "ipython3",
   "version": "3.8.10"
  },
  "orig_nbformat": 4,
  "vscode": {
   "interpreter": {
    "hash": "5dfa21b9ea908da29bde2e75ccf59a8bff4851a5152f1f941db0158f4a372e7e"
   }
  }
 },
 "nbformat": 4,
 "nbformat_minor": 2
}
