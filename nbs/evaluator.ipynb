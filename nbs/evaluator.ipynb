{
 "cells": [
  {
   "cell_type": "markdown",
   "metadata": {},
   "source": [
    "# Evaluator Module"
   ]
  },
  {
   "cell_type": "code",
   "execution_count": 2,
   "metadata": {},
   "outputs": [],
   "source": [
    "#| default_exp evaluator"
   ]
  },
  {
   "cell_type": "code",
   "execution_count": 3,
   "metadata": {},
   "outputs": [
    {
     "name": "stderr",
     "output_type": "stream",
     "text": [
      "/home/svelascodimate/miniconda3/envs/code-check-list/lib/python3.10/site-packages/tqdm/auto.py:22: TqdmWarning: IProgress not found. Please update jupyter and ipywidgets. See https://ipywidgets.readthedocs.io/en/stable/user_install.html\n",
      "  from .autonotebook import tqdm as notebook_tqdm\n"
     ]
    }
   ],
   "source": [
    "#| export\n",
    "import CodeCheckList\n",
    "import pandas as pd\n",
    "\n",
    "import CodeCheckList.utils as utils\n",
    "from CodeCheckList.tokenizer import CodeTokenizer\n",
    "from CodeCheckList.masker import Masker\n",
    "from CodeCheckList.predictor import Predictor\n",
    "\n",
    "import statistics\n",
    "import textdistance"
   ]
  },
  {
   "cell_type": "code",
   "execution_count": 14,
   "metadata": {},
   "outputs": [],
   "source": [
    "#| export\n",
    "class Evaluator:\n",
    "    \"\"\"Evaluator Module to perform all AST Evaluations\"\"\"\n",
    "    def __init__(self, checkpoint: str, language, gpu_available=False):\n",
    "        self.tokenizer = CodeTokenizer.from_pretrained(checkpoint, language)\n",
    "        self.masker = Masker(self.tokenizer)\n",
    "        self.predictor = Predictor.from_pretrained(checkpoint, self.tokenizer, gpu_available)\n",
    "\n",
    "    def __call__(self, test_set, number_of_predictions: int, masking_rate: float):\n",
    "        results_dict = self.evaluate_test_set(test_set, number_of_predictions, masking_rate)\n",
    "        results_dataframe = pd.DataFrame([], columns=[\n",
    "            'ast_element', 'occurences', 'jaccard', 'sorensen_dice', 'levenshtein', 'jaccard_avg', 'sorensen_dice_avg', 'levenshtein_avg'])\n",
    "        for result_index, result in enumerate(results_dict):\n",
    "            results_dataframe.loc[len(results_dataframe.index)] = [self.tokenizer.node_types[result_index], result[0], result[1], result[2], result[3], result[4], result[5], result[6]]\n",
    "        return results_dataframe\n",
    "    \n",
    "    def evaluate_test_set(self, test_set, number_of_predictions: int, masking_rate: float):\n",
    "        results_dict = []\n",
    "        for node_type in self.tokenizer.node_types:\n",
    "            results_dict.append([0,                                           #ocurrences\n",
    "                                [[] for i in range(0,number_of_predictions)], #jaccard per prediction\n",
    "                                [[] for i in range(0,number_of_predictions)], #sorensen_dice per prediction\n",
    "                                [[] for i in range(0,number_of_predictions)], #levenshtein per prediction\n",
    "                                [0 for i in range(0,number_of_predictions)],  #avg jaccard per prediction\n",
    "                                [0 for i in range(0,number_of_predictions)],  #avg sorensen_dice per prediction\n",
    "                                [0 for i in range(0,number_of_predictions)],  #avg levenshtein per prediction\n",
    "                                ])\n",
    "        for sample_index, sample in enumerate(test_set):\n",
    "            print('--------evaluating sample:'+str(sample_index)+' --------')\n",
    "            for node_type_idx, node_type in enumerate(self.tokenizer.node_types):\n",
    "                node_type_results = self.evaluate_node_type_on_snippet(sample['whole_func_string'], node_type_idx, number_of_predictions, masking_rate)\n",
    "                if(len(node_type_results)>0):\n",
    "                    results_dict[node_type_idx][0] += node_type_results[0][0]\n",
    "                    for prediction_number_index in range(0, number_of_predictions):\n",
    "                        results_dict[node_type_idx][1][prediction_number_index].append(node_type_results[prediction_number_index][1])\n",
    "                        results_dict[node_type_idx][2][prediction_number_index].append(node_type_results[prediction_number_index][2])\n",
    "                        results_dict[node_type_idx][3][prediction_number_index].append(node_type_results[prediction_number_index][3])\n",
    "                        results_dict[node_type_idx][4][prediction_number_index] = round(statistics.mean(results_dict[node_type_idx][1][prediction_number_index]),3)\n",
    "                        results_dict[node_type_idx][5][prediction_number_index] = round(statistics.mean(results_dict[node_type_idx][2][prediction_number_index]),3)\n",
    "                        results_dict[node_type_idx][6][prediction_number_index] = round(statistics.mean(results_dict[node_type_idx][3][prediction_number_index]),3)\n",
    "        return results_dict\n",
    "        \n",
    "    def evaluate_node_type_on_snippet(self, source_code: str, target_node_type_idx: int, number_of_predictions: int, masking_rate: float):\n",
    "        results=[]\n",
    "\n",
    "        source_code_tree = self.tokenizer.parser.parse(bytes(source_code, \"utf8\")).root_node\n",
    "        source_code_nodes = []\n",
    "        utils.find_nodes(source_code_tree,self.tokenizer.node_types[target_node_type_idx], source_code_nodes)\n",
    "        if len(source_code_nodes) == 0:\n",
    "            return results\n",
    "\n",
    "        masked_code_encoding = self.masker(source_code, self.tokenizer(source_code), target_node_type_idx, masking_rate)\n",
    "        predictions = self.predictor(masked_code_encoding, self.tokenizer.tokenizer(source_code, return_tensors='pt'), number_of_predictions)  \n",
    "\n",
    "        for prediction_number in range(0, number_of_predictions):\n",
    "            predicted_code = predictions[prediction_number]\n",
    "            jaccard_similarity = 0        #the closest to 1, the best\n",
    "            sorensen_dice_similarity = 0  #the closest to 1, the best\n",
    "            levenshtein_similarity = 0    #the closest to 1, the best\n",
    "\n",
    "            if utils.is_balanced_snippet(predicted_code):\n",
    "                predicted_code_tree = self.tokenizer.parser.parse(bytes(predicted_code, \"utf8\")).root_node\n",
    "                predicted_code_types = utils.get_node_type_list(predicted_code_tree)\n",
    "                source_code_types = utils.get_node_type_list(source_code_tree)\n",
    "                jaccard_similarity = textdistance.jaccard.normalized_similarity(predicted_code_types,source_code_types)\n",
    "                sorensen_dice_similarity = textdistance.sorensen_dice.normalized_similarity(predicted_code_types, source_code_types)\n",
    "                levenshtein_similarity = textdistance.levenshtein.normalized_similarity(predicted_code_types,source_code_types)\n",
    "            results.append([len(source_code_nodes), jaccard_similarity, sorensen_dice_similarity, levenshtein_similarity])\n",
    "        return results\n"
   ]
  },
  {
   "cell_type": "markdown",
   "metadata": {},
   "source": [
    "## Full Pipeline"
   ]
  },
  {
   "cell_type": "markdown",
   "metadata": {},
   "source": [
    "### Download Grammar"
   ]
  },
  {
   "cell_type": "code",
   "execution_count": 5,
   "metadata": {},
   "outputs": [
    {
     "name": "stdout",
     "output_type": "stream",
     "text": [
      "/home/svelascodimate/miniconda3/envs/code-check-list/lib/python3.10/site-packages/CodeCheckList/grammars\n"
     ]
    }
   ],
   "source": [
    "from CodeCheckList import loader\n",
    "\n",
    "\"\"\"define language\"\"\"\n",
    "python_language = \"python\"\n",
    "\n",
    "languages = [python_language]\n",
    "\n",
    "loader.download_grammars(languages)"
   ]
  },
  {
   "cell_type": "markdown",
   "metadata": {},
   "source": [
    "### Load Model"
   ]
  },
  {
   "cell_type": "code",
   "execution_count": 6,
   "metadata": {},
   "outputs": [],
   "source": [
    "\n",
    "\"\"\"define the model checkpoint\"\"\"\n",
    "checkpoint = \"huggingface/CodeBERTa-small-v1\""
   ]
  },
  {
   "cell_type": "markdown",
   "metadata": {},
   "source": [
    "### Create Modules"
   ]
  },
  {
   "cell_type": "code",
   "execution_count": 7,
   "metadata": {},
   "outputs": [],
   "source": [
    "from CodeCheckList.tokenizer import CodeTokenizer\n",
    "from CodeCheckList.masker import Masker\n",
    "\n",
    "#create code tokenizer \n",
    "bert_tokenizer = CodeTokenizer.from_pretrained(checkpoint, python_language)\n",
    "\n",
    "#create code masker\n",
    "code_masker = Masker(bert_tokenizer)"
   ]
  },
  {
   "cell_type": "markdown",
   "metadata": {},
   "source": [
    "### Node Types"
   ]
  },
  {
   "cell_type": "code",
   "execution_count": 8,
   "metadata": {},
   "outputs": [
    {
     "name": "stdout",
     "output_type": "stream",
     "text": [
      "['primary_expression', '~', 'ERROR', 'decorated_definition', 'try', '<>', 'raise', 'or', '^=', '[', 'default_parameter', 'keyword_separator', 'generator_expression', '^', 'pass', 'function_definition', 'global_statement', 'ellipsis', 'parenthesized_list_splat', 'block', 'from', '.', 'dictionary_splat_pattern', 'global', 'string', ':', 'elif_clause', '|=', ')', 'case_clause', 'exec_statement', 'pattern', 'escape_sequence', 'try_statement', 'type', 'call', '//=', 'type_conversion', 'none', 'concatenated_string', '__future__', 'pair', '//', 'decorator', '\"', 'nonlocal_statement', 'class_definition', 'except_clause', '=', '}', 'dotted_name', 'import', '->', 'set_comprehension', 'attribute', '<<', '*', '%=', 'unary_operator', '<', 'list_comprehension', '>>', 'future_import_statement', 'positional_separator', 'del', 'augmented_assignment', 'not', 'named_expression', 'parameters', 'subscript', 'dictionary_splat', 'lambda', 'raise_statement', 'assignment', 'dictionary', 'continue_statement', 'list_splat_pattern', 'exec', 'pass_statement', 'finally_clause', 'print_statement', ']', 'parameter', '>>=', 'while_statement', 'break_statement', 'assert', 'comment', 'keyword_argument', '*=', 'slice', 'delete_statement', 'while', 'dictionary_comprehension', 'except', '==', 'else', 'match_statement', '**=', 'as', 'module', 'is', '>=', 'tuple', '}}', '_compound_statement', 'if_clause', '_simple_statement', '&', '-=', ',', 'lambda_parameters', 'and', 'identifier', 'nonlocal', 'with_clause', 'case_pattern', 'set', '{{', 'for_in_clause', 'parenthesized_expression', 'class', 'format_expression', 'integer', 'true', 'yield', 'format_specifier', 'boolean_operator', 'comparison_operator', 'float', '&=', 'with_statement', 'else_clause', 'if', 'elif', 'continue', ':=', '@', 'for_statement', 'typed_parameter', 'break', 'pattern_list', 'print', 'if_statement', 'def', '>', 'list_splat', ';', '!=', '(', 'as_pattern', 'return_statement', 'interpolation', 'relative_import', '/', 'import_statement', 'async', 'chevron', '+', 'false', 'typed_default_parameter', 'import_prefix', '{', 'await', 'wildcard_import', 'expression_statement', 'as_pattern_target', 'expression', 'with', 'list', '%', 'conditional_expression', 'case', 'argument_list', '<<=', 'assert_statement', '/=', 'for', 'with_item', 'expression_list', 'aliased_import', '<=', 'not_operator', '+=', '@=', 'in', 'import_from_statement', 'return', 'finally', '|', 'binary_operator', 'tuple_pattern', '-', '**', 'match', 'list_pattern']\n"
     ]
    }
   ],
   "source": [
    "print(bert_tokenizer.node_types)"
   ]
  },
  {
   "cell_type": "markdown",
   "metadata": {},
   "source": [
    "### Encodings"
   ]
  },
  {
   "cell_type": "code",
   "execution_count": 9,
   "metadata": {},
   "outputs": [
    {
     "name": "stdout",
     "output_type": "stream",
     "text": [
      "def<mask><mask><mask>(<mask>,<mask>):\n",
      "    return<mask>*<mask>\n"
     ]
    }
   ],
   "source": [
    "\"\"\"example source code\"\"\"\n",
    "\n",
    "code = \"def multiply_numbers(a,b):\\n    return a*b\"\n",
    "#code = \"def scale(self, center=True, scale=True):\\n        \\\"\\\"\\\"\\nthe the\\n\\n\\n                                                                                                                                                          _\\n                     ____________=_=_===========________===______________________________==_____________________\\n_______\\n____\\n\\n___\\n\\n\\n\\n\\n\\n\\n\\n\\n        return return)\"\n",
    "#code = \"def hello_world(a,b):\\n    print('hello world')\"\n",
    "#code = \"def __ordered_values_by_indexes(self, data, inds): \\\"\\\"\\\" Return values (intensities) by indexes. Used for multiscale graph cut. data = [[0 1 1], [0 2 2], [0 2 2]] inds = [[0 1 2], [3 4 4], [5 4 4]] return: [0, 1, 1, 0, 2, 0] If the data are not consistent, it will take the maximal value \\\"\\\"\\\" # get unique labels and their first indexes # lab, linds = np.unique(inds, return_index=True) # compute values by indexes # values = data.reshape(-1)[linds] # alternative slow implementation # if there are different data on same index, it will take # maximal value # lab = np.unique(inds) # values = [0]*len(lab) # for label in lab: # values[label] = np.max(data[inds == label]) # # values = np.asarray(values) # yet another implementation values = [None] * (np.max(inds) + 1) linear_inds = inds.ravel() linear_data = data.ravel() for i in range(0, len(linear_inds)): # going over all data pixels if values[linear_inds[i]] is None: # this index is found for first values[linear_inds[i]] = linear_data[i] elif values[linear_inds[i]] < linear_data[i]: # here can be changed maximal or minimal value values[linear_inds[i]] = linear_data[i] values = np.asarray(values) return values\"\n",
    "#code = \"def __ordered_values_by_indexes(self, data, inds):  # get unique labels and their first indexes # lab, linds = np.unique(inds, return_index=True) # compute values by indexes # values = data.reshape(-1)[linds] # alternative slow implementation # if there are different data on same index, it will take # maximal value # lab = np.unique(inds) # values = [0]*len(lab) # for label in lab: # values[label] = np.max(data[inds == label]) # # values = np.asarray(values) # yet another implementation values = [None] * (np.max(inds) + 1) linear_inds = inds.ravel() linear_data = data.ravel() for i in range(0, len(linear_inds)): # going over all data pixels if values[linear_inds[i]] is None: # this index is found for first values[linear_inds[i]] = linear_data[i] elif values[linear_inds[i]] < linear_data[i]: # here can be changed maximal or minimal value values[linear_inds[i]] = linear_data[i] values = np.asarray(values) return values\"\n",
    "target_node_type = \"identifier\"\n",
    "\n",
    "#encoding \n",
    "source_code_encoding = bert_tokenizer(code)\n",
    "\n",
    "#masking\n",
    "masked_code_encoding = code_masker(code, bert_tokenizer(code), bert_tokenizer.node_types.index(target_node_type), 1)\n",
    "\n",
    "assert len(source_code_encoding['input_ids']) == len(masked_code_encoding['input_ids'])\n",
    "\n",
    "#masked code\n",
    "masked_code = bert_tokenizer.tokenizer.decode(list(filter(lambda token_id: False if token_id == bert_tokenizer.tokenizer.bos_token_id or \n",
    "            token_id == bert_tokenizer.tokenizer.eos_token_id else True, masked_code_encoding['input_ids'])))\n",
    "\n",
    "print(masked_code)"
   ]
  },
  {
   "cell_type": "markdown",
   "metadata": {},
   "source": [
    "### Code Prediction"
   ]
  },
  {
   "cell_type": "code",
   "execution_count": 10,
   "metadata": {},
   "outputs": [],
   "source": [
    "from CodeCheckList.predictor import Predictor\n",
    "\n",
    "predictor = Predictor.from_pretrained(checkpoint, bert_tokenizer)\n",
    "predictions = predictor(masked_code_encoding, bert_tokenizer.tokenizer(code, return_tensors='pt'), 5)"
   ]
  },
  {
   "cell_type": "markdown",
   "metadata": {},
   "source": [
    "### Evaluation"
   ]
  },
  {
   "cell_type": "code",
   "execution_count": 11,
   "metadata": {},
   "outputs": [
    {
     "name": "stdout",
     "output_type": "stream",
     "text": [
      "------------- CODE -------------\n",
      "def multiply_numbers(a,b):\n",
      "    return a*b\n",
      "\n",
      "---------- MASKED -------------\n",
      "def<mask><mask><mask>(<mask>,<mask>):\n",
      "    return<mask>*<mask>\n",
      "\n",
      "--------- PREDICTED -----------\n",
      "def __function(name, value):\n",
      "    return f*args\n",
      "\n",
      "--------- AST COMPARE -----------\n",
      "5\n",
      "5\n"
     ]
    }
   ],
   "source": [
    "import CodeCheckList.utils as utils\n",
    "\n",
    "prediction_number = 0\n",
    "print('------------- CODE -------------')\n",
    "print(code)\n",
    "print('\\n---------- MASKED -------------')\n",
    "print(masked_code)\n",
    "print('\\n--------- PREDICTED -----------')\n",
    "predicted_code = predictions[prediction_number]\n",
    "print(predicted_code)\n",
    "print('\\n--------- AST COMPARE -----------')\n",
    "filtered_nodes = []\n",
    "filtered_nodes_predict = []\n",
    "utils.find_nodes(bert_tokenizer.parser.parse(bytes(code, \"utf8\")).root_node, bert_tokenizer.node_types[bert_tokenizer.node_types.index(target_node_type)], filtered_nodes)\n",
    "utils.find_nodes(bert_tokenizer.parser.parse(bytes(predicted_code, \"utf8\")).root_node, bert_tokenizer.node_types[bert_tokenizer.node_types.index(target_node_type)], filtered_nodes_predict)\n",
    "print(len(filtered_nodes))\n",
    "print(len(filtered_nodes_predict))\n",
    "#base the evaluation on size comparison"
   ]
  },
  {
   "cell_type": "markdown",
   "metadata": {},
   "source": [
    "## Testing"
   ]
  },
  {
   "cell_type": "code",
   "execution_count": 12,
   "metadata": {},
   "outputs": [
    {
     "name": "stdout",
     "output_type": "stream",
     "text": [
      "510\n"
     ]
    },
    {
     "name": "stderr",
     "output_type": "stream",
     "text": [
      "No config specified, defaulting to: code_search_net/all\n",
      "Found cached dataset code_search_net (/home/svelascodimate/.cache/huggingface/datasets/code_search_net/all/1.0.0/80a244ab541c6b2125350b764dc5c2b715f65f00de7a56107a28915fac173a27)\n",
      "Parameter 'function'=<function <lambda> at 0x7f50b991b9a0> of the transform datasets.arrow_dataset.Dataset.filter@2.0.1 couldn't be hashed properly, a random hash was used instead. Make sure your transforms and parameters are serializable with pickle or dill for the dataset fingerprinting and caching to work. If you reuse this transform, the caching mechanism will consider it to be different from the previous calls and recompute everything. This warning is only showed once. Subsequent hashing failures won't be showed.\n",
      "  0%|          | 0/101 [00:00<?, ?ba/s]Token indices sequence length is longer than the specified maximum sequence length for this model (517 > 512). Running this sequence through the model will result in indexing errors\n",
      "100%|██████████| 101/101 [00:24<00:00,  4.09ba/s]\n",
      "No config specified, defaulting to: code_search_net/all\n",
      "Found cached dataset code_search_net (/home/svelascodimate/.cache/huggingface/datasets/code_search_net/all/1.0.0/80a244ab541c6b2125350b764dc5c2b715f65f00de7a56107a28915fac173a27)\n",
      "  0%|          | 0/101 [00:00<?, ?ba/s]Token indices sequence length is longer than the specified maximum sequence length for this model (517 > 512). Running this sequence through the model will result in indexing errors\n",
      "100%|██████████| 101/101 [00:24<00:00,  4.13ba/s]\n"
     ]
    },
    {
     "data": {
      "text/plain": [
       "5"
      ]
     },
     "execution_count": 12,
     "metadata": {},
     "output_type": "execute_result"
    }
   ],
   "source": [
    "from datasets import load_dataset \n",
    "import CodeCheckList.utils as utils\n",
    "\n",
    "\n",
    "evaluator = Evaluator(checkpoint, python_language)\n",
    "\n",
    "max_token_number = bert_tokenizer.tokenizer.max_len_single_sentence\n",
    "print(max_token_number)\n",
    "\n",
    "test_set = load_dataset(\"code_search_net\", split='test')\n",
    "test_set = test_set.filter(lambda sample: True if sample['language']== python_language\n",
    "            and len(sample['func_code_tokens']) <= max_token_number\n",
    "            and len(bert_tokenizer.tokenizer(sample['whole_func_string'])['input_ids']) <= max_token_number else False, num_proc=1)\n",
    "\n",
    "test_set = utils.get_random_sub_set_test_set(utils.get_test_sets(load_dataset(\"code_search_net\", split='test'), \"python\", evaluator.tokenizer.tokenizer.max_len_single_sentence, evaluator.tokenizer), 5)\n",
    "\n",
    "len(test_set)"
   ]
  },
  {
   "cell_type": "code",
   "execution_count": 15,
   "metadata": {},
   "outputs": [
    {
     "name": "stdout",
     "output_type": "stream",
     "text": [
      "--------evaluating sample:0 --------\n",
      "--------evaluating sample:1 --------\n",
      "--------evaluating sample:2 --------\n",
      "--------evaluating sample:3 --------\n",
      "--------evaluating sample:4 --------\n"
     ]
    },
    {
     "data": {
      "text/html": [
       "<div>\n",
       "<style scoped>\n",
       "    .dataframe tbody tr th:only-of-type {\n",
       "        vertical-align: middle;\n",
       "    }\n",
       "\n",
       "    .dataframe tbody tr th {\n",
       "        vertical-align: top;\n",
       "    }\n",
       "\n",
       "    .dataframe thead th {\n",
       "        text-align: right;\n",
       "    }\n",
       "</style>\n",
       "<table border=\"1\" class=\"dataframe\">\n",
       "  <thead>\n",
       "    <tr style=\"text-align: right;\">\n",
       "      <th></th>\n",
       "      <th>ast_element</th>\n",
       "      <th>occurences</th>\n",
       "      <th>jaccard</th>\n",
       "      <th>sorensen_dice</th>\n",
       "      <th>levenshtein</th>\n",
       "      <th>jaccard_avg</th>\n",
       "      <th>sorensen_dice_avg</th>\n",
       "      <th>levenshtein_avg</th>\n",
       "    </tr>\n",
       "  </thead>\n",
       "  <tbody>\n",
       "    <tr>\n",
       "      <th>113</th>\n",
       "      <td>identifier</td>\n",
       "      <td>135</td>\n",
       "      <td>[[0.9851851851851852, 0.9365079365079365, 0.42...</td>\n",
       "      <td>[[0.9925373134328358, 0.9672131147540983, 0.59...</td>\n",
       "      <td>[[0.9851851851851852, 0.9516129032258065, 0.45...</td>\n",
       "      <td>[0.469, 0.519, 0.456]</td>\n",
       "      <td>[0.511, 0.556, 0.509]</td>\n",
       "      <td>[0.478, 0.519, 0.456]</td>\n",
       "    </tr>\n",
       "    <tr>\n",
       "      <th>44</th>\n",
       "      <td>\"</td>\n",
       "      <td>42</td>\n",
       "      <td>[[0.8012048192771084, 1.0, 1.0, 0, 0], [0.8012...</td>\n",
       "      <td>[[0.8896321070234113, 1.0, 1.0, 0, 0], [0.8896...</td>\n",
       "      <td>[[0.8012048192771084, 1.0, 1.0, 0, 0], [0.8012...</td>\n",
       "      <td>[0.56, 0.56, 0.556]</td>\n",
       "      <td>[0.578, 0.578, 0.577]</td>\n",
       "      <td>[0.56, 0.56, 0.557]</td>\n",
       "    </tr>\n",
       "    <tr>\n",
       "      <th>149</th>\n",
       "      <td>(</td>\n",
       "      <td>35</td>\n",
       "      <td>[[0.9851851851851852, 1.0, 1.0, 0, 0], [0.95, ...</td>\n",
       "      <td>[[0.9925373134328358, 1.0, 1.0, 0, 0], [0.9743...</td>\n",
       "      <td>[[0.9851851851851852, 1.0, 1.0, 0, 0], [0.9357...</td>\n",
       "      <td>[0.597, 0.584, 0.562]</td>\n",
       "      <td>[0.599, 0.592, 0.579]</td>\n",
       "      <td>[0.597, 0.581, 0.571]</td>\n",
       "    </tr>\n",
       "    <tr>\n",
       "      <th>28</th>\n",
       "      <td>)</td>\n",
       "      <td>35</td>\n",
       "      <td>[[1.0, 1.0, 1.0, 0, 0], [0.9097222222222222, 1...</td>\n",
       "      <td>[[1.0, 1.0, 1.0, 0, 0], [0.9527272727272728, 1...</td>\n",
       "      <td>[[1.0, 1.0, 1.0, 0, 0], [0.8802816901408451, 1...</td>\n",
       "      <td>[0.6, 0.573, 0.584]</td>\n",
       "      <td>[0.6, 0.586, 0.592]</td>\n",
       "      <td>[0.6, 0.568, 0.583]</td>\n",
       "    </tr>\n",
       "    <tr>\n",
       "      <th>21</th>\n",
       "      <td>.</td>\n",
       "      <td>26</td>\n",
       "      <td>[[1.0, 1.0, 1.0, 0, 0], [0.9851851851851852, 1...</td>\n",
       "      <td>[[1.0, 1.0, 1.0, 0, 0], [0.9925373134328358, 1...</td>\n",
       "      <td>[[1.0, 1.0, 1.0, 0, 0], [0.9481481481481482, 1...</td>\n",
       "      <td>[0.6, 0.597, 0.565]</td>\n",
       "      <td>[0.6, 0.599, 0.581]</td>\n",
       "      <td>[0.6, 0.59, 0.567]</td>\n",
       "    </tr>\n",
       "    <tr>\n",
       "      <th>...</th>\n",
       "      <td>...</td>\n",
       "      <td>...</td>\n",
       "      <td>...</td>\n",
       "      <td>...</td>\n",
       "      <td>...</td>\n",
       "      <td>...</td>\n",
       "      <td>...</td>\n",
       "      <td>...</td>\n",
       "    </tr>\n",
       "    <tr>\n",
       "      <th>77</th>\n",
       "      <td>exec</td>\n",
       "      <td>0</td>\n",
       "      <td>[[], [], []]</td>\n",
       "      <td>[[], [], []]</td>\n",
       "      <td>[[], [], []]</td>\n",
       "      <td>[0, 0, 0]</td>\n",
       "      <td>[0, 0, 0]</td>\n",
       "      <td>[0, 0, 0]</td>\n",
       "    </tr>\n",
       "    <tr>\n",
       "      <th>78</th>\n",
       "      <td>pass_statement</td>\n",
       "      <td>0</td>\n",
       "      <td>[[], [], []]</td>\n",
       "      <td>[[], [], []]</td>\n",
       "      <td>[[], [], []]</td>\n",
       "      <td>[0, 0, 0]</td>\n",
       "      <td>[0, 0, 0]</td>\n",
       "      <td>[0, 0, 0]</td>\n",
       "    </tr>\n",
       "    <tr>\n",
       "      <th>79</th>\n",
       "      <td>finally_clause</td>\n",
       "      <td>0</td>\n",
       "      <td>[[], [], []]</td>\n",
       "      <td>[[], [], []]</td>\n",
       "      <td>[[], [], []]</td>\n",
       "      <td>[0, 0, 0]</td>\n",
       "      <td>[0, 0, 0]</td>\n",
       "      <td>[0, 0, 0]</td>\n",
       "    </tr>\n",
       "    <tr>\n",
       "      <th>80</th>\n",
       "      <td>print_statement</td>\n",
       "      <td>0</td>\n",
       "      <td>[[], [], []]</td>\n",
       "      <td>[[], [], []]</td>\n",
       "      <td>[[], [], []]</td>\n",
       "      <td>[0, 0, 0]</td>\n",
       "      <td>[0, 0, 0]</td>\n",
       "      <td>[0, 0, 0]</td>\n",
       "    </tr>\n",
       "    <tr>\n",
       "      <th>195</th>\n",
       "      <td>list_pattern</td>\n",
       "      <td>0</td>\n",
       "      <td>[[], [], []]</td>\n",
       "      <td>[[], [], []]</td>\n",
       "      <td>[[], [], []]</td>\n",
       "      <td>[0, 0, 0]</td>\n",
       "      <td>[0, 0, 0]</td>\n",
       "      <td>[0, 0, 0]</td>\n",
       "    </tr>\n",
       "  </tbody>\n",
       "</table>\n",
       "<p>196 rows × 8 columns</p>\n",
       "</div>"
      ],
      "text/plain": [
       "         ast_element  occurences  \\\n",
       "113       identifier         135   \n",
       "44                 \"          42   \n",
       "149                (          35   \n",
       "28                 )          35   \n",
       "21                 .          26   \n",
       "..               ...         ...   \n",
       "77              exec           0   \n",
       "78    pass_statement           0   \n",
       "79    finally_clause           0   \n",
       "80   print_statement           0   \n",
       "195     list_pattern           0   \n",
       "\n",
       "                                               jaccard  \\\n",
       "113  [[0.9851851851851852, 0.9365079365079365, 0.42...   \n",
       "44   [[0.8012048192771084, 1.0, 1.0, 0, 0], [0.8012...   \n",
       "149  [[0.9851851851851852, 1.0, 1.0, 0, 0], [0.95, ...   \n",
       "28   [[1.0, 1.0, 1.0, 0, 0], [0.9097222222222222, 1...   \n",
       "21   [[1.0, 1.0, 1.0, 0, 0], [0.9851851851851852, 1...   \n",
       "..                                                 ...   \n",
       "77                                        [[], [], []]   \n",
       "78                                        [[], [], []]   \n",
       "79                                        [[], [], []]   \n",
       "80                                        [[], [], []]   \n",
       "195                                       [[], [], []]   \n",
       "\n",
       "                                         sorensen_dice  \\\n",
       "113  [[0.9925373134328358, 0.9672131147540983, 0.59...   \n",
       "44   [[0.8896321070234113, 1.0, 1.0, 0, 0], [0.8896...   \n",
       "149  [[0.9925373134328358, 1.0, 1.0, 0, 0], [0.9743...   \n",
       "28   [[1.0, 1.0, 1.0, 0, 0], [0.9527272727272728, 1...   \n",
       "21   [[1.0, 1.0, 1.0, 0, 0], [0.9925373134328358, 1...   \n",
       "..                                                 ...   \n",
       "77                                        [[], [], []]   \n",
       "78                                        [[], [], []]   \n",
       "79                                        [[], [], []]   \n",
       "80                                        [[], [], []]   \n",
       "195                                       [[], [], []]   \n",
       "\n",
       "                                           levenshtein            jaccard_avg  \\\n",
       "113  [[0.9851851851851852, 0.9516129032258065, 0.45...  [0.469, 0.519, 0.456]   \n",
       "44   [[0.8012048192771084, 1.0, 1.0, 0, 0], [0.8012...    [0.56, 0.56, 0.556]   \n",
       "149  [[0.9851851851851852, 1.0, 1.0, 0, 0], [0.9357...  [0.597, 0.584, 0.562]   \n",
       "28   [[1.0, 1.0, 1.0, 0, 0], [0.8802816901408451, 1...    [0.6, 0.573, 0.584]   \n",
       "21   [[1.0, 1.0, 1.0, 0, 0], [0.9481481481481482, 1...    [0.6, 0.597, 0.565]   \n",
       "..                                                 ...                    ...   \n",
       "77                                        [[], [], []]              [0, 0, 0]   \n",
       "78                                        [[], [], []]              [0, 0, 0]   \n",
       "79                                        [[], [], []]              [0, 0, 0]   \n",
       "80                                        [[], [], []]              [0, 0, 0]   \n",
       "195                                       [[], [], []]              [0, 0, 0]   \n",
       "\n",
       "         sorensen_dice_avg        levenshtein_avg  \n",
       "113  [0.511, 0.556, 0.509]  [0.478, 0.519, 0.456]  \n",
       "44   [0.578, 0.578, 0.577]    [0.56, 0.56, 0.557]  \n",
       "149  [0.599, 0.592, 0.579]  [0.597, 0.581, 0.571]  \n",
       "28     [0.6, 0.586, 0.592]    [0.6, 0.568, 0.583]  \n",
       "21     [0.6, 0.599, 0.581]     [0.6, 0.59, 0.567]  \n",
       "..                     ...                    ...  \n",
       "77               [0, 0, 0]              [0, 0, 0]  \n",
       "78               [0, 0, 0]              [0, 0, 0]  \n",
       "79               [0, 0, 0]              [0, 0, 0]  \n",
       "80               [0, 0, 0]              [0, 0, 0]  \n",
       "195              [0, 0, 0]              [0, 0, 0]  \n",
       "\n",
       "[196 rows x 8 columns]"
      ]
     },
     "execution_count": 15,
     "metadata": {},
     "output_type": "execute_result"
    }
   ],
   "source": [
    "number_of_predictions = 3\n",
    "checkpoint = \"huggingface/CodeBERTa-small-v1\"\n",
    "python_language = \"python\"\n",
    "masking_rate = 1\n",
    "\n",
    "evaluator = Evaluator(checkpoint, python_language, gpu_available=False)\n",
    "\n",
    "results_dataframe = evaluator(test_set, number_of_predictions, masking_rate)\n",
    "\n",
    "results_dataframe.sort_values(by=['occurences'], ascending=False)\n"
   ]
  }
 ],
 "metadata": {
  "kernelspec": {
   "display_name": "Python 3",
   "language": "python",
   "name": "python3"
  },
  "language_info": {
   "codemirror_mode": {
    "name": "ipython",
    "version": 3
   },
   "file_extension": ".py",
   "mimetype": "text/x-python",
   "name": "python",
   "nbconvert_exporter": "python",
   "pygments_lexer": "ipython3",
   "version": "3.10.8"
  },
  "orig_nbformat": 4,
  "vscode": {
   "interpreter": {
    "hash": "5dfa21b9ea908da29bde2e75ccf59a8bff4851a5152f1f941db0158f4a372e7e"
   }
  }
 },
 "nbformat": 4,
 "nbformat_minor": 2
}
