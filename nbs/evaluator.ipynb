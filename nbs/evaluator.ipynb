{
 "cells": [
  {
   "cell_type": "markdown",
   "metadata": {},
   "source": [
    "# Evaluator Module"
   ]
  },
  {
   "cell_type": "code",
   "execution_count": 1,
   "metadata": {},
   "outputs": [],
   "source": [
    "#| default_exp evaluator"
   ]
  },
  {
   "cell_type": "code",
   "execution_count": 2,
   "metadata": {},
   "outputs": [
    {
     "name": "stderr",
     "output_type": "stream",
     "text": [
      "/home/svelascodimate/miniconda3/envs/code-check-list/lib/python3.10/site-packages/tqdm/auto.py:22: TqdmWarning: IProgress not found. Please update jupyter and ipywidgets. See https://ipywidgets.readthedocs.io/en/stable/user_install.html\n",
      "  from .autonotebook import tqdm as notebook_tqdm\n"
     ]
    }
   ],
   "source": [
    "#| export\n",
    "import os\n",
    "import pandas as pd\n",
    "\n",
    "import CodeCheckList.utils as utils\n",
    "from CodeCheckList.tokenizer import CodeTokenizer\n",
    "from CodeCheckList.masker import Masker\n",
    "from CodeCheckList.predictor import Predictor\n",
    "from CodeCheckList.judge import Judge\n",
    "\n",
    "import statistics\n",
    "import textdistance"
   ]
  },
  {
   "cell_type": "code",
   "execution_count": 1,
   "metadata": {},
   "outputs": [],
   "source": [
    "#| hide\n",
    "from nbdev.showdoc import *"
   ]
  },
  {
   "cell_type": "code",
   "execution_count": 3,
   "metadata": {},
   "outputs": [],
   "source": [
    "#| export\n",
    "class Evaluator:\n",
    "    \"\"\"Evaluator Module to perform all AST Evaluations\"\"\"\n",
    "    def __init__(self, checkpoint: str, language, gpu_available=False):\n",
    "        os.environ[\"TOKENIZERS_PARALLELISM\"] = \"true\"\n",
    "        self.tokenizer = CodeTokenizer.from_pretrained(checkpoint, language)\n",
    "        self.masker = Masker(self.tokenizer)\n",
    "        self.predictor = Predictor.from_pretrained(checkpoint, self.tokenizer, gpu_available)\n",
    "        self.judge = Judge(self.tokenizer)\n",
    "\n",
    "    def __call__(self, test_set, number_of_predictions: int, masking_rate: float):\n",
    "        results_dict = self.evaluate_test_set(test_set, number_of_predictions, masking_rate)\n",
    "        results_dataframe = pd.DataFrame([], columns=[\n",
    "            'ast_element', 'occurences', 'jaccard', 'sorensen_dice', 'levenshtein', 'jaccard_avg', 'sorensen_dice_avg', 'levenshtein_avg'])\n",
    "        for result_index, result in enumerate(results_dict):\n",
    "            results_dataframe.loc[len(results_dataframe.index)] = [self.tokenizer.node_types[result_index], result[0], tuple(tuple(l) for l in result[1]), tuple(tuple(l) for l in result[2]), tuple(tuple(l) for l in result[3]), tuple(result[4]), tuple(result[5]), tuple(result[6])]\n",
    "        return results_dataframe\n",
    "    \n",
    "    def evaluate_test_set(self, test_set, number_of_predictions: int, masking_rate: float):\n",
    "        results_dict = []\n",
    "        for node_type in self.tokenizer.node_types:\n",
    "            results_dict.append([0,                                           #ocurrences\n",
    "                                [[] for i in range(0,number_of_predictions)], #jaccard per prediction\n",
    "                                [[] for i in range(0,number_of_predictions)], #sorensen_dice per prediction\n",
    "                                [[] for i in range(0,number_of_predictions)], #levenshtein per prediction\n",
    "                                [0 for i in range(0,number_of_predictions)],  #avg jaccard per prediction\n",
    "                                [0 for i in range(0,number_of_predictions)],  #avg sorensen_dice per prediction\n",
    "                                [0 for i in range(0,number_of_predictions)],  #avg levenshtein per prediction\n",
    "                                ])\n",
    "        for sample_index, sample in enumerate(test_set):\n",
    "            print('-------- evaluating sample:'+str(sample_index)+' --------')\n",
    "            for node_type_idx, node_type in enumerate(self.tokenizer.node_types):\n",
    "                node_type_results = self.evaluate_node_type_on_snippet(sample['whole_func_string'], node_type_idx, number_of_predictions, masking_rate)\n",
    "                if(len(node_type_results)>0):\n",
    "                    results_dict[node_type_idx][0] += node_type_results[0][0]\n",
    "                    for prediction_number_index in range(0, number_of_predictions):\n",
    "                        if(node_type_results[prediction_number_index][1]!=None):\n",
    "                            results_dict[node_type_idx][1][prediction_number_index].append(node_type_results[prediction_number_index][1])\n",
    "                            results_dict[node_type_idx][4][prediction_number_index] = round(statistics.mean(results_dict[node_type_idx][1][prediction_number_index]),3)\n",
    "                        if(node_type_results[prediction_number_index][2]!=None):\n",
    "                            results_dict[node_type_idx][2][prediction_number_index].append(node_type_results[prediction_number_index][2])\n",
    "                            results_dict[node_type_idx][5][prediction_number_index] = round(statistics.mean(results_dict[node_type_idx][2][prediction_number_index]),3)\n",
    "                        if(node_type_results[prediction_number_index][3]!=None):\n",
    "                            results_dict[node_type_idx][3][prediction_number_index].append(node_type_results[prediction_number_index][3])\n",
    "                            results_dict[node_type_idx][6][prediction_number_index] = round(statistics.mean(results_dict[node_type_idx][3][prediction_number_index]),3)\n",
    "        return results_dict\n",
    "        \n",
    "    def evaluate_node_type_on_snippet(self, source_code: str, target_node_type_idx: int, number_of_predictions: int, masking_rate: float):\n",
    "        results=[]\n",
    "        \n",
    "        source_code_tree = self.tokenizer.parser.parse(bytes(source_code, \"utf8\"))\n",
    "        source_code_nodes = []\n",
    "        utils.find_nodes(source_code_tree.root_node, self.tokenizer.node_types[target_node_type_idx], source_code_nodes)\n",
    "        if len(source_code_nodes) == 0:\n",
    "            return results\n",
    "\n",
    "        masked_code_encoding = self.masker(source_code, self.tokenizer(source_code), target_node_type_idx, masking_rate)\n",
    "        predictions = self.predictor(masked_code_encoding, self.tokenizer.tokenizer(source_code, return_tensors='pt'), number_of_predictions)  \n",
    "\n",
    "        for prediction_number in range(0, number_of_predictions):\n",
    "            predicted_code = predictions[prediction_number]\n",
    "            prediction_results = self.judge(source_code, predicted_code)\n",
    "            results.append([len(source_code_nodes), prediction_results[0], prediction_results[1], prediction_results[2]])\n",
    "        return results\n"
   ]
  },
  {
   "cell_type": "markdown",
   "metadata": {},
   "source": [
    "## Full Pipeline"
   ]
  },
  {
   "cell_type": "markdown",
   "metadata": {},
   "source": [
    "### Download Grammar"
   ]
  },
  {
   "cell_type": "code",
   "execution_count": 4,
   "metadata": {},
   "outputs": [
    {
     "name": "stdout",
     "output_type": "stream",
     "text": [
      "/home/svelascodimate/miniconda3/envs/code-check-list/lib/python3.10/site-packages/CodeCheckList/grammars\n"
     ]
    }
   ],
   "source": [
    "#|eval: false\n",
    "from CodeCheckList import loader\n",
    "\n",
    "\"\"\"define language\"\"\"\n",
    "python_language = \"python\"\n",
    "\n",
    "languages = [python_language]\n",
    "\n",
    "loader.download_grammars(languages)"
   ]
  },
  {
   "cell_type": "markdown",
   "metadata": {},
   "source": [
    "### Load Model"
   ]
  },
  {
   "cell_type": "code",
   "execution_count": 5,
   "metadata": {},
   "outputs": [],
   "source": [
    "#|eval: false\n",
    "\"\"\"define the model checkpoint\"\"\"\n",
    "checkpoint = \"huggingface/CodeBERTa-small-v1\""
   ]
  },
  {
   "cell_type": "markdown",
   "metadata": {},
   "source": [
    "### Create Modules"
   ]
  },
  {
   "cell_type": "code",
   "execution_count": 6,
   "metadata": {},
   "outputs": [],
   "source": [
    "#|eval: false\n",
    "from CodeCheckList.tokenizer import CodeTokenizer\n",
    "from CodeCheckList.masker import Masker\n",
    "\n",
    "#create code tokenizer \n",
    "bert_tokenizer = CodeTokenizer.from_pretrained(checkpoint, python_language)\n",
    "\n",
    "#create code masker\n",
    "code_masker = Masker(bert_tokenizer)"
   ]
  },
  {
   "cell_type": "markdown",
   "metadata": {},
   "source": [
    "### Node Types"
   ]
  },
  {
   "cell_type": "code",
   "execution_count": 7,
   "metadata": {},
   "outputs": [
    {
     "name": "stdout",
     "output_type": "stream",
     "text": [
      "['parenthesized_expression', 'lambda_parameters', 'parenthesized_list_splat', 'match', 'expression_statement', 'assignment', '>', 'true', 'dictionary_splat_pattern', 'nonlocal', 'if', 'tuple_pattern', 'list_splat_pattern', 'lambda', 'integer', 'case_clause', 'dictionary_comprehension', 'typed_default_parameter', 'ERROR', 'not_operator', 'assert', '^=', 'else_clause', '_simple_statement', 'expression_list', '%', 'for_statement', 'format_expression', '}', 'try_statement', '@', 'list', '@=', 'with_statement', 'wildcard_import', 'tuple', 'yield', 'global', 'pass', 'function_definition', 'identifier', 'del', ']', 'primary_expression', 'aliased_import', 'for_in_clause', 'as', 'subscript', 'type', 'float', ')', 'parameter', '__future__', '==', 'async', '=', 'return', 'continue', 'exec_statement', 'global_statement', 'with_item', '>>', 'module', ';', 'list_comprehension', '->', 'continue_statement', 'block', 'positional_separator', '<>', ':', '^', 'in', '&', '-', '<=', 'import_from_statement', 'with_clause', 'not', 'interpolation', 'keyword_separator', 'parameters', 'decorated_definition', 'concatenated_string', 'def', '_compound_statement', 'escape_sequence', 'set_comprehension', 'attribute', '}}', ',', 'return_statement', 'expression', '>=', 'finally', 'await', 'keyword_argument', 'relative_import', 'comparison_operator', 'list_pattern', '//', '|=', 'pattern', 'import_statement', '|', '%=', 'break', 'default_parameter', 'while_statement', 'class', '+', 'comment', '-=', 'from', 'generator_expression', 'as_pattern', 'import_prefix', 'print', ':=', 'elif', '*=', '\"', 'list_splat', 'exec', 'try', '~', 'dotted_name', 'assert_statement', 'future_import_statement', 'argument_list', 'delete_statement', 'for', 'except_clause', '>>=', '/=', '!=', '{{', '.', '<<', 'dictionary', 'false', 'boolean_operator', 'nonlocal_statement', 'else', 'and', 'is', 'slice', 'case', '**', '<', 'named_expression', 'augmented_assignment', '+=', 'chevron', 'print_statement', 'while', 'raise', 'case_pattern', 'pattern_list', 'if_statement', 'finally_clause', 'typed_parameter', 'pass_statement', '<<=', '/', 'none', '(', '*', 'pair', 'as_pattern_target', 'if_clause', 'except', 'dictionary_splat', 'elif_clause', 'or', 'with', '//=', 'decorator', '**=', 'call', 'format_specifier', 'conditional_expression', 'break_statement', '&=', 'type_conversion', 'raise_statement', 'import', 'string', '[', 'match_statement', 'unary_operator', 'class_definition', 'binary_operator', 'ellipsis', '{', 'set']\n"
     ]
    }
   ],
   "source": [
    "#|eval: false\n",
    "print(bert_tokenizer.node_types)"
   ]
  },
  {
   "cell_type": "markdown",
   "metadata": {},
   "source": [
    "### Encodings"
   ]
  },
  {
   "cell_type": "code",
   "execution_count": 8,
   "metadata": {},
   "outputs": [
    {
     "name": "stdout",
     "output_type": "stream",
     "text": [
      "def<mask><mask><mask>(<mask>,<mask>):\n",
      "    return<mask>*<mask>\n"
     ]
    }
   ],
   "source": [
    "#|eval: false\n",
    "\"\"\"example source code\"\"\"\n",
    "\n",
    "code = \"def multiply_numbers(a,b):\\n    return a*b\"\n",
    "#code = \"def scale(self, center=True, scale=True):\\n        \\\"\\\"\\\"\\nthe the\\n\\n\\n                                                                                                                                                          _\\n                     ____________=_=_===========________===______________________________==_____________________\\n_______\\n____\\n\\n___\\n\\n\\n\\n\\n\\n\\n\\n\\n        return return)\"\n",
    "#code = \"def hello_world(a,b):\\n    print('hello world')\"\n",
    "#code = \"def __ordered_values_by_indexes(self, data, inds): \\\"\\\"\\\" Return values (intensities) by indexes. Used for multiscale graph cut. data = [[0 1 1], [0 2 2], [0 2 2]] inds = [[0 1 2], [3 4 4], [5 4 4]] return: [0, 1, 1, 0, 2, 0] If the data are not consistent, it will take the maximal value \\\"\\\"\\\" # get unique labels and their first indexes # lab, linds = np.unique(inds, return_index=True) # compute values by indexes # values = data.reshape(-1)[linds] # alternative slow implementation # if there are different data on same index, it will take # maximal value # lab = np.unique(inds) # values = [0]*len(lab) # for label in lab: # values[label] = np.max(data[inds == label]) # # values = np.asarray(values) # yet another implementation values = [None] * (np.max(inds) + 1) linear_inds = inds.ravel() linear_data = data.ravel() for i in range(0, len(linear_inds)): # going over all data pixels if values[linear_inds[i]] is None: # this index is found for first values[linear_inds[i]] = linear_data[i] elif values[linear_inds[i]] < linear_data[i]: # here can be changed maximal or minimal value values[linear_inds[i]] = linear_data[i] values = np.asarray(values) return values\"\n",
    "#code = \"def __ordered_values_by_indexes(self, data, inds):  # get unique labels and their first indexes # lab, linds = np.unique(inds, return_index=True) # compute values by indexes # values = data.reshape(-1)[linds] # alternative slow implementation # if there are different data on same index, it will take # maximal value # lab = np.unique(inds) # values = [0]*len(lab) # for label in lab: # values[label] = np.max(data[inds == label]) # # values = np.asarray(values) # yet another implementation values = [None] * (np.max(inds) + 1) linear_inds = inds.ravel() linear_data = data.ravel() for i in range(0, len(linear_inds)): # going over all data pixels if values[linear_inds[i]] is None: # this index is found for first values[linear_inds[i]] = linear_data[i] elif values[linear_inds[i]] < linear_data[i]: # here can be changed maximal or minimal value values[linear_inds[i]] = linear_data[i] values = np.asarray(values) return values\"\n",
    "target_node_type = \"identifier\"\n",
    "\n",
    "#encoding \n",
    "source_code_encoding = bert_tokenizer(code)\n",
    "\n",
    "#masking\n",
    "masked_code_encoding = code_masker(code, bert_tokenizer(code), bert_tokenizer.node_types.index(target_node_type), 1)\n",
    "\n",
    "assert len(source_code_encoding['input_ids']) == len(masked_code_encoding['input_ids'])\n",
    "\n",
    "#masked code\n",
    "masked_code = bert_tokenizer.tokenizer.decode(list(filter(lambda token_id: False if token_id == bert_tokenizer.tokenizer.bos_token_id or \n",
    "            token_id == bert_tokenizer.tokenizer.eos_token_id else True, masked_code_encoding['input_ids'])))\n",
    "\n",
    "print(masked_code)"
   ]
  },
  {
   "cell_type": "markdown",
   "metadata": {},
   "source": [
    "### Code Prediction"
   ]
  },
  {
   "cell_type": "code",
   "execution_count": 9,
   "metadata": {},
   "outputs": [],
   "source": [
    "#|eval: false\n",
    "from CodeCheckList.predictor import Predictor\n",
    "\n",
    "predictor = Predictor.from_pretrained(checkpoint, bert_tokenizer)\n",
    "predictions = predictor(masked_code_encoding, bert_tokenizer.tokenizer(code, return_tensors='pt'), 5)"
   ]
  },
  {
   "cell_type": "markdown",
   "metadata": {},
   "source": [
    "### Evaluation"
   ]
  },
  {
   "cell_type": "code",
   "execution_count": 10,
   "metadata": {},
   "outputs": [
    {
     "name": "stdout",
     "output_type": "stream",
     "text": [
      "------------- CODE -------------\n",
      "def multiply_numbers(a,b):\n",
      "    return a*b\n",
      "\n",
      "---------- MASKED -------------\n",
      "def<mask><mask><mask>(<mask>,<mask>):\n",
      "    return<mask>*<mask>\n",
      "\n",
      "--------- PREDICTED -----------\n",
      "def __function(name, value):\n",
      "    return f*args\n",
      "\n",
      "--------- AST COMPARE -----------\n",
      "5\n",
      "5\n"
     ]
    }
   ],
   "source": [
    "#|eval: false\n",
    "import CodeCheckList.utils as utils\n",
    "\n",
    "prediction_number = 0\n",
    "print('------------- CODE -------------')\n",
    "print(code)\n",
    "print('\\n---------- MASKED -------------')\n",
    "print(masked_code)\n",
    "print('\\n--------- PREDICTED -----------')\n",
    "predicted_code = predictions[prediction_number]\n",
    "print(predicted_code)\n",
    "print('\\n--------- AST COMPARE -----------')\n",
    "filtered_nodes = []\n",
    "filtered_nodes_predict = []\n",
    "utils.find_nodes(bert_tokenizer.parser.parse(bytes(code, \"utf8\")).root_node, bert_tokenizer.node_types[bert_tokenizer.node_types.index(target_node_type)], filtered_nodes)\n",
    "utils.find_nodes(bert_tokenizer.parser.parse(bytes(predicted_code, \"utf8\")).root_node, bert_tokenizer.node_types[bert_tokenizer.node_types.index(target_node_type)], filtered_nodes_predict)\n",
    "print(len(filtered_nodes))\n",
    "print(len(filtered_nodes_predict))\n",
    "#base the evaluation on size comparison"
   ]
  },
  {
   "cell_type": "markdown",
   "metadata": {},
   "source": [
    "## Testing"
   ]
  },
  {
   "cell_type": "code",
   "execution_count": 11,
   "metadata": {},
   "outputs": [
    {
     "name": "stdout",
     "output_type": "stream",
     "text": [
      "510\n"
     ]
    },
    {
     "name": "stderr",
     "output_type": "stream",
     "text": [
      "No config specified, defaulting to: code_search_net/all\n",
      "Found cached dataset code_search_net (/home/svelascodimate/.cache/huggingface/datasets/code_search_net/all/1.0.0/80a244ab541c6b2125350b764dc5c2b715f65f00de7a56107a28915fac173a27)\n",
      "100%|██████████| 101/101 [00:08<00:00, 12.28ba/s]\n"
     ]
    },
    {
     "data": {
      "text/plain": [
       "22176"
      ]
     },
     "execution_count": 11,
     "metadata": {},
     "output_type": "execute_result"
    }
   ],
   "source": [
    "#|eval: false\n",
    "from datasets import load_dataset \n",
    "import CodeCheckList.utils as utils\n",
    "\n",
    "\n",
    "evaluator = Evaluator(checkpoint, python_language)\n",
    "\n",
    "max_token_number = bert_tokenizer.tokenizer.max_len_single_sentence\n",
    "print(max_token_number)\n",
    "\n",
    "test_set = load_dataset(\"code_search_net\", split='test')\n",
    "test_set = utils.get_test_sets(test_set, python_language, max_token_number, bert_tokenizer)"
   ]
  },
  {
   "cell_type": "code",
   "execution_count": 12,
   "metadata": {},
   "outputs": [
    {
     "name": "stdout",
     "output_type": "stream",
     "text": [
      "def get_vid_from_url(url):\n",
      "        \"\"\"Extracts video ID from URL.\n",
      "        \"\"\"\n",
      "        return match1(url, r'youtu\\.be/([^?/]+)') or \\\n",
      "          match1(url, r'youtube\\.com/embed/([^/?]+)') or \\\n",
      "          match1(url, r'youtube\\.com/v/([^/?]+)') or \\\n",
      "          match1(url, r'youtube\\.com/watch/([^/?]+)') or \\\n",
      "          parse_query_param(url, 'v') or \\\n",
      "          parse_query_param(parse_query_param(url, 'u'), 'v')\n"
     ]
    }
   ],
   "source": [
    "#|eval: false\n",
    "print(test_set[0]['whole_func_string'])"
   ]
  },
  {
   "cell_type": "code",
   "execution_count": 14,
   "metadata": {},
   "outputs": [
    {
     "name": "stdout",
     "output_type": "stream",
     "text": [
      "TOTAL PYTHON FILTERED SAMPLES: 100529\n"
     ]
    },
    {
     "name": "stderr",
     "output_type": "stream",
     "text": [
      "No config specified, defaulting to: code_search_net/all\n",
      "Found cached dataset code_search_net (/home/svelascodimate/.cache/huggingface/datasets/code_search_net/all/1.0.0/80a244ab541c6b2125350b764dc5c2b715f65f00de7a56107a28915fac173a27)\n",
      "Parameter 'function'=<function get_test_sets.<locals>.<lambda> at 0x7f8f3464ae60> of the transform datasets.arrow_dataset.Dataset.filter@2.0.1 couldn't be hashed properly, a random hash was used instead. Make sure your transforms and parameters are serializable with pickle or dill for the dataset fingerprinting and caching to work. If you reuse this transform, the caching mechanism will consider it to be different from the previous calls and recompute everything. This warning is only showed once. Subsequent hashing failures won't be showed.\n",
      "  0%|          | 0/101 [00:00<?, ?ba/s]Token indices sequence length is longer than the specified maximum sequence length for this model (517 > 512). Running this sequence through the model will result in indexing errors\n",
      "100%|██████████| 101/101 [00:18<00:00,  5.60ba/s]"
     ]
    },
    {
     "name": "stdout",
     "output_type": "stream",
     "text": [
      "TOTAL SAMPLES TO EVALUATE: 5\n"
     ]
    },
    {
     "name": "stderr",
     "output_type": "stream",
     "text": [
      "\n"
     ]
    },
    {
     "data": {
      "text/plain": [
       "5"
      ]
     },
     "execution_count": 14,
     "metadata": {},
     "output_type": "execute_result"
    }
   ],
   "source": [
    "#|eval: false\n",
    "print('TOTAL PYTHON FILTERED SAMPLES: '+str(len(test_set)))\n",
    "test_set = utils.get_random_sub_set_test_set(utils.get_test_sets(load_dataset(\"code_search_net\", split='test'), \"python\", evaluator.tokenizer.tokenizer.max_len_single_sentence, evaluator.tokenizer), 5)\n",
    "print('TOTAL SAMPLES TO EVALUATE: '+str(len(test_set)))\n",
    "len(test_set)"
   ]
  },
  {
   "cell_type": "code",
   "execution_count": 15,
   "metadata": {},
   "outputs": [
    {
     "name": "stdout",
     "output_type": "stream",
     "text": [
      "-------- evaluating sample:0 --------\n",
      "-------- evaluating sample:1 --------\n",
      "-------- evaluating sample:2 --------\n",
      "-------- evaluating sample:3 --------\n",
      "-------- evaluating sample:4 --------\n"
     ]
    },
    {
     "data": {
      "text/html": [
       "<div>\n",
       "<style scoped>\n",
       "    .dataframe tbody tr th:only-of-type {\n",
       "        vertical-align: middle;\n",
       "    }\n",
       "\n",
       "    .dataframe tbody tr th {\n",
       "        vertical-align: top;\n",
       "    }\n",
       "\n",
       "    .dataframe thead th {\n",
       "        text-align: right;\n",
       "    }\n",
       "</style>\n",
       "<table border=\"1\" class=\"dataframe\">\n",
       "  <thead>\n",
       "    <tr style=\"text-align: right;\">\n",
       "      <th></th>\n",
       "      <th>ast_element</th>\n",
       "      <th>occurences</th>\n",
       "      <th>jaccard</th>\n",
       "      <th>sorensen_dice</th>\n",
       "      <th>levenshtein</th>\n",
       "      <th>jaccard_avg</th>\n",
       "      <th>sorensen_dice_avg</th>\n",
       "      <th>levenshtein_avg</th>\n",
       "    </tr>\n",
       "  </thead>\n",
       "  <tbody>\n",
       "    <tr>\n",
       "      <th>40</th>\n",
       "      <td>identifier</td>\n",
       "      <td>143</td>\n",
       "      <td>((0.8540145985401459, 0.9285714285714286, 0.86...</td>\n",
       "      <td>((0.9212598425196851, 0.9629629629629629, 0.92...</td>\n",
       "      <td>((0.8382352941176471, 0.9285714285714286, 0.78...</td>\n",
       "      <td>(0.908, 0.875, 0.815)</td>\n",
       "      <td>(0.951, 0.932, 0.896)</td>\n",
       "      <td>(0.883, 0.857, 0.792)</td>\n",
       "    </tr>\n",
       "    <tr>\n",
       "      <th>121</th>\n",
       "      <td>\"</td>\n",
       "      <td>68</td>\n",
       "      <td>((1.0, 1.0, 1.0, 1.0, 1.0), (1.0, 1.0, 0.11137...</td>\n",
       "      <td>((1.0, 1.0, 1.0, 1.0, 1.0), (1.0, 1.0, 0.20042...</td>\n",
       "      <td>((1.0, 1.0, 1.0, 1.0, 1.0), (1.0, 1.0, 0.10688...</td>\n",
       "      <td>(1.0, 0.822, 0.697)</td>\n",
       "      <td>(1.0, 0.84, 0.788)</td>\n",
       "      <td>(1.0, 0.821, 0.698)</td>\n",
       "    </tr>\n",
       "    <tr>\n",
       "      <th>55</th>\n",
       "      <td>=</td>\n",
       "      <td>36</td>\n",
       "      <td>((1.0, 1.0, 0.9905437352245863, 1.0), (0.87301...</td>\n",
       "      <td>((1.0, 1.0, 0.995249406175772, 1.0), (0.932203...</td>\n",
       "      <td>((1.0, 1.0, 0.995249406175772, 1.0), (0.932203...</td>\n",
       "      <td>(0.998, 0.896, 0.887)</td>\n",
       "      <td>(0.999, 0.945, 0.94)</td>\n",
       "      <td>(0.999, 0.929, 0.906)</td>\n",
       "    </tr>\n",
       "    <tr>\n",
       "      <th>166</th>\n",
       "      <td>(</td>\n",
       "      <td>35</td>\n",
       "      <td>((1.0, 1.0, 0.9952718676122931, 1.0, 1.0), (1....</td>\n",
       "      <td>((1.0, 1.0, 0.9976303317535545, 1.0, 1.0), (1....</td>\n",
       "      <td>((1.0, 1.0, 0.9952718676122931, 1.0, 1.0), (1....</td>\n",
       "      <td>(0.999, 0.96, 0.913)</td>\n",
       "      <td>(1.0, 0.978, 0.952)</td>\n",
       "      <td>(0.999, 0.955, 0.912)</td>\n",
       "    </tr>\n",
       "    <tr>\n",
       "      <th>50</th>\n",
       "      <td>)</td>\n",
       "      <td>35</td>\n",
       "      <td>((1.0, 1.0, 1.0, 1.0, 1.0), (0.933884297520661...</td>\n",
       "      <td>((1.0, 1.0, 1.0, 1.0, 1.0), (0.965811965811965...</td>\n",
       "      <td>((1.0, 1.0, 1.0, 1.0, 1.0), (0.932203389830508...</td>\n",
       "      <td>(1.0, 0.953, 0.961)</td>\n",
       "      <td>(1.0, 0.976, 0.98)</td>\n",
       "      <td>(1.0, 0.956, 0.962)</td>\n",
       "    </tr>\n",
       "    <tr>\n",
       "      <th>...</th>\n",
       "      <td>...</td>\n",
       "      <td>...</td>\n",
       "      <td>...</td>\n",
       "      <td>...</td>\n",
       "      <td>...</td>\n",
       "      <td>...</td>\n",
       "      <td>...</td>\n",
       "      <td>...</td>\n",
       "    </tr>\n",
       "    <tr>\n",
       "      <th>76</th>\n",
       "      <td>import_from_statement</td>\n",
       "      <td>0</td>\n",
       "      <td>((), (), ())</td>\n",
       "      <td>((), (), ())</td>\n",
       "      <td>((), (), ())</td>\n",
       "      <td>(0, 0, 0)</td>\n",
       "      <td>(0, 0, 0)</td>\n",
       "      <td>(0, 0, 0)</td>\n",
       "    </tr>\n",
       "    <tr>\n",
       "      <th>77</th>\n",
       "      <td>with_clause</td>\n",
       "      <td>0</td>\n",
       "      <td>((), (), ())</td>\n",
       "      <td>((), (), ())</td>\n",
       "      <td>((), (), ())</td>\n",
       "      <td>(0, 0, 0)</td>\n",
       "      <td>(0, 0, 0)</td>\n",
       "      <td>(0, 0, 0)</td>\n",
       "    </tr>\n",
       "    <tr>\n",
       "      <th>79</th>\n",
       "      <td>interpolation</td>\n",
       "      <td>0</td>\n",
       "      <td>((), (), ())</td>\n",
       "      <td>((), (), ())</td>\n",
       "      <td>((), (), ())</td>\n",
       "      <td>(0, 0, 0)</td>\n",
       "      <td>(0, 0, 0)</td>\n",
       "      <td>(0, 0, 0)</td>\n",
       "    </tr>\n",
       "    <tr>\n",
       "      <th>80</th>\n",
       "      <td>keyword_separator</td>\n",
       "      <td>0</td>\n",
       "      <td>((), (), ())</td>\n",
       "      <td>((), (), ())</td>\n",
       "      <td>((), (), ())</td>\n",
       "      <td>(0, 0, 0)</td>\n",
       "      <td>(0, 0, 0)</td>\n",
       "      <td>(0, 0, 0)</td>\n",
       "    </tr>\n",
       "    <tr>\n",
       "      <th>195</th>\n",
       "      <td>set</td>\n",
       "      <td>0</td>\n",
       "      <td>((), (), ())</td>\n",
       "      <td>((), (), ())</td>\n",
       "      <td>((), (), ())</td>\n",
       "      <td>(0, 0, 0)</td>\n",
       "      <td>(0, 0, 0)</td>\n",
       "      <td>(0, 0, 0)</td>\n",
       "    </tr>\n",
       "  </tbody>\n",
       "</table>\n",
       "<p>196 rows × 8 columns</p>\n",
       "</div>"
      ],
      "text/plain": [
       "               ast_element  occurences  \\\n",
       "40              identifier         143   \n",
       "121                      \"          68   \n",
       "55                       =          36   \n",
       "166                      (          35   \n",
       "50                       )          35   \n",
       "..                     ...         ...   \n",
       "76   import_from_statement           0   \n",
       "77             with_clause           0   \n",
       "79           interpolation           0   \n",
       "80       keyword_separator           0   \n",
       "195                    set           0   \n",
       "\n",
       "                                               jaccard  \\\n",
       "40   ((0.8540145985401459, 0.9285714285714286, 0.86...   \n",
       "121  ((1.0, 1.0, 1.0, 1.0, 1.0), (1.0, 1.0, 0.11137...   \n",
       "55   ((1.0, 1.0, 0.9905437352245863, 1.0), (0.87301...   \n",
       "166  ((1.0, 1.0, 0.9952718676122931, 1.0, 1.0), (1....   \n",
       "50   ((1.0, 1.0, 1.0, 1.0, 1.0), (0.933884297520661...   \n",
       "..                                                 ...   \n",
       "76                                        ((), (), ())   \n",
       "77                                        ((), (), ())   \n",
       "79                                        ((), (), ())   \n",
       "80                                        ((), (), ())   \n",
       "195                                       ((), (), ())   \n",
       "\n",
       "                                         sorensen_dice  \\\n",
       "40   ((0.9212598425196851, 0.9629629629629629, 0.92...   \n",
       "121  ((1.0, 1.0, 1.0, 1.0, 1.0), (1.0, 1.0, 0.20042...   \n",
       "55   ((1.0, 1.0, 0.995249406175772, 1.0), (0.932203...   \n",
       "166  ((1.0, 1.0, 0.9976303317535545, 1.0, 1.0), (1....   \n",
       "50   ((1.0, 1.0, 1.0, 1.0, 1.0), (0.965811965811965...   \n",
       "..                                                 ...   \n",
       "76                                        ((), (), ())   \n",
       "77                                        ((), (), ())   \n",
       "79                                        ((), (), ())   \n",
       "80                                        ((), (), ())   \n",
       "195                                       ((), (), ())   \n",
       "\n",
       "                                           levenshtein            jaccard_avg  \\\n",
       "40   ((0.8382352941176471, 0.9285714285714286, 0.78...  (0.908, 0.875, 0.815)   \n",
       "121  ((1.0, 1.0, 1.0, 1.0, 1.0), (1.0, 1.0, 0.10688...    (1.0, 0.822, 0.697)   \n",
       "55   ((1.0, 1.0, 0.995249406175772, 1.0), (0.932203...  (0.998, 0.896, 0.887)   \n",
       "166  ((1.0, 1.0, 0.9952718676122931, 1.0, 1.0), (1....   (0.999, 0.96, 0.913)   \n",
       "50   ((1.0, 1.0, 1.0, 1.0, 1.0), (0.932203389830508...    (1.0, 0.953, 0.961)   \n",
       "..                                                 ...                    ...   \n",
       "76                                        ((), (), ())              (0, 0, 0)   \n",
       "77                                        ((), (), ())              (0, 0, 0)   \n",
       "79                                        ((), (), ())              (0, 0, 0)   \n",
       "80                                        ((), (), ())              (0, 0, 0)   \n",
       "195                                       ((), (), ())              (0, 0, 0)   \n",
       "\n",
       "         sorensen_dice_avg        levenshtein_avg  \n",
       "40   (0.951, 0.932, 0.896)  (0.883, 0.857, 0.792)  \n",
       "121     (1.0, 0.84, 0.788)    (1.0, 0.821, 0.698)  \n",
       "55    (0.999, 0.945, 0.94)  (0.999, 0.929, 0.906)  \n",
       "166    (1.0, 0.978, 0.952)  (0.999, 0.955, 0.912)  \n",
       "50      (1.0, 0.976, 0.98)    (1.0, 0.956, 0.962)  \n",
       "..                     ...                    ...  \n",
       "76               (0, 0, 0)              (0, 0, 0)  \n",
       "77               (0, 0, 0)              (0, 0, 0)  \n",
       "79               (0, 0, 0)              (0, 0, 0)  \n",
       "80               (0, 0, 0)              (0, 0, 0)  \n",
       "195              (0, 0, 0)              (0, 0, 0)  \n",
       "\n",
       "[196 rows x 8 columns]"
      ]
     },
     "execution_count": 15,
     "metadata": {},
     "output_type": "execute_result"
    }
   ],
   "source": [
    "#|eval: false\n",
    "number_of_predictions = 3\n",
    "checkpoint = \"huggingface/CodeBERTa-small-v1\"\n",
    "python_language = \"python\"\n",
    "masking_rate = 1\n",
    "\n",
    "evaluator = Evaluator(checkpoint, python_language, gpu_available=False)\n",
    "\n",
    "results_dataframe = evaluator(test_set, number_of_predictions, masking_rate)\n",
    "\n",
    "results_dataframe.sort_values(by=['occurences'], ascending=False)\n"
   ]
  }
 ],
 "metadata": {
  "kernelspec": {
   "display_name": "Python 3",
   "language": "python",
   "name": "python3"
  },
  "language_info": {
   "codemirror_mode": {
    "name": "ipython",
    "version": 3
   },
   "file_extension": ".py",
   "mimetype": "text/x-python",
   "name": "python",
   "nbconvert_exporter": "python",
   "pygments_lexer": "ipython3",
   "version": "3.10.8"
  },
  "orig_nbformat": 4,
  "vscode": {
   "interpreter": {
    "hash": "5dfa21b9ea908da29bde2e75ccf59a8bff4851a5152f1f941db0158f4a372e7e"
   }
  }
 },
 "nbformat": 4,
 "nbformat_minor": 2
}
