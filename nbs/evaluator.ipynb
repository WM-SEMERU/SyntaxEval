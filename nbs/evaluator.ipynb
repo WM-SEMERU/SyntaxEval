{
 "cells": [
  {
   "cell_type": "markdown",
   "metadata": {},
   "source": [
    "# Evaluator Module"
   ]
  },
  {
   "cell_type": "code",
   "execution_count": 1,
   "metadata": {},
   "outputs": [],
   "source": [
    "#| default_exp evaluator"
   ]
  },
  {
   "cell_type": "code",
   "execution_count": 2,
   "metadata": {},
   "outputs": [
    {
     "name": "stderr",
     "output_type": "stream",
     "text": [
      "/home/svelascodimate/miniconda3/envs/code-check-list/lib/python3.10/site-packages/tqdm/auto.py:22: TqdmWarning: IProgress not found. Please update jupyter and ipywidgets. See https://ipywidgets.readthedocs.io/en/stable/user_install.html\n",
      "  from .autonotebook import tqdm as notebook_tqdm\n"
     ]
    }
   ],
   "source": [
    "#| export\n",
    "import os\n",
    "import CodeCheckList\n",
    "import pandas as pd\n",
    "\n",
    "import CodeCheckList.utils as utils\n",
    "from CodeCheckList.tokenizer import CodeTokenizer\n",
    "from CodeCheckList.masker import Masker\n",
    "from CodeCheckList.predictor import Predictor\n",
    "from CodeCheckList.judge import Judge\n",
    "\n",
    "import statistics\n",
    "import textdistance"
   ]
  },
  {
   "cell_type": "code",
   "execution_count": 3,
   "metadata": {},
   "outputs": [],
   "source": [
    "#| export\n",
    "class Evaluator:\n",
    "    \"\"\"Evaluator Module to perform all AST Evaluations\"\"\"\n",
    "    def __init__(self, checkpoint: str, language, gpu_available=False):\n",
    "        os.environ[\"TOKENIZERS_PARALLELISM\"] = \"true\"\n",
    "        self.tokenizer = CodeTokenizer.from_pretrained(checkpoint, language)\n",
    "        self.masker = Masker(self.tokenizer)\n",
    "        self.predictor = Predictor.from_pretrained(checkpoint, self.tokenizer, gpu_available)\n",
    "        self.judge = Judge(self.tokenizer)\n",
    "\n",
    "    def __call__(self, test_set, number_of_predictions: int, masking_rate: float):\n",
    "        results_dict = self.evaluate_test_set(test_set, number_of_predictions, masking_rate)\n",
    "        results_dataframe = pd.DataFrame([], columns=[\n",
    "            'ast_element', 'occurences', 'jaccard', 'sorensen_dice', 'levenshtein', 'jaccard_avg', 'sorensen_dice_avg', 'levenshtein_avg'])\n",
    "        for result_index, result in enumerate(results_dict):\n",
    "            results_dataframe.loc[len(results_dataframe.index)] = [self.tokenizer.node_types[result_index], result[0], tuple(tuple(l) for l in result[1]), tuple(tuple(l) for l in result[2]), tuple(tuple(l) for l in result[3]), tuple(result[4]), tuple(result[5]), tuple(result[6])]\n",
    "        return results_dataframe\n",
    "    \n",
    "    def evaluate_test_set(self, test_set, number_of_predictions: int, masking_rate: float):\n",
    "        results_dict = []\n",
    "        for node_type in self.tokenizer.node_types:\n",
    "            results_dict.append([0,                                           #ocurrences\n",
    "                                [[] for i in range(0,number_of_predictions)], #jaccard per prediction\n",
    "                                [[] for i in range(0,number_of_predictions)], #sorensen_dice per prediction\n",
    "                                [[] for i in range(0,number_of_predictions)], #levenshtein per prediction\n",
    "                                [0 for i in range(0,number_of_predictions)],  #avg jaccard per prediction\n",
    "                                [0 for i in range(0,number_of_predictions)],  #avg sorensen_dice per prediction\n",
    "                                [0 for i in range(0,number_of_predictions)],  #avg levenshtein per prediction\n",
    "                                ])\n",
    "        for sample_index, sample in enumerate(test_set):\n",
    "            print('-------- evaluating sample:'+str(sample_index)+' --------')\n",
    "            for node_type_idx, node_type in enumerate(self.tokenizer.node_types):\n",
    "                node_type_results = self.evaluate_node_type_on_snippet(sample['whole_func_string'], node_type_idx, number_of_predictions, masking_rate)\n",
    "                if(len(node_type_results)>0):\n",
    "                    results_dict[node_type_idx][0] += node_type_results[0][0]\n",
    "                    for prediction_number_index in range(0, number_of_predictions):\n",
    "                        if(node_type_results[prediction_number_index][1]!=None):\n",
    "                            results_dict[node_type_idx][1][prediction_number_index].append(node_type_results[prediction_number_index][1])\n",
    "                            results_dict[node_type_idx][4][prediction_number_index] = round(statistics.mean(results_dict[node_type_idx][1][prediction_number_index]),3)\n",
    "                        if(node_type_results[prediction_number_index][2]!=None):\n",
    "                            results_dict[node_type_idx][2][prediction_number_index].append(node_type_results[prediction_number_index][2])\n",
    "                            results_dict[node_type_idx][5][prediction_number_index] = round(statistics.mean(results_dict[node_type_idx][2][prediction_number_index]),3)\n",
    "                        if(node_type_results[prediction_number_index][3]!=None):\n",
    "                            results_dict[node_type_idx][3][prediction_number_index].append(node_type_results[prediction_number_index][3])\n",
    "                            results_dict[node_type_idx][6][prediction_number_index] = round(statistics.mean(results_dict[node_type_idx][3][prediction_number_index]),3)\n",
    "        return results_dict\n",
    "        \n",
    "    def evaluate_node_type_on_snippet(self, source_code: str, target_node_type_idx: int, number_of_predictions: int, masking_rate: float):\n",
    "        results=[]\n",
    "        \n",
    "        source_code_tree = self.tokenizer.parser.parse(bytes(source_code, \"utf8\"))\n",
    "        source_code_nodes = []\n",
    "        utils.find_nodes(source_code_tree.root_node, self.tokenizer.node_types[target_node_type_idx], source_code_nodes)\n",
    "        if len(source_code_nodes) == 0:\n",
    "            return results\n",
    "\n",
    "        masked_code_encoding = self.masker(source_code, self.tokenizer(source_code), target_node_type_idx, masking_rate)\n",
    "        predictions = self.predictor(masked_code_encoding, self.tokenizer.tokenizer(source_code, return_tensors='pt'), number_of_predictions)  \n",
    "\n",
    "        for prediction_number in range(0, number_of_predictions):\n",
    "            predicted_code = predictions[prediction_number]\n",
    "            prediction_results = self.judge(source_code, predicted_code)\n",
    "            results.append([len(source_code_nodes), prediction_results[0], prediction_results[1], prediction_results[2]])\n",
    "        return results\n"
   ]
  },
  {
   "cell_type": "markdown",
   "metadata": {},
   "source": [
    "## Full Pipeline"
   ]
  },
  {
   "cell_type": "markdown",
   "metadata": {},
   "source": [
    "### Download Grammar"
   ]
  },
  {
   "cell_type": "code",
   "execution_count": 4,
   "metadata": {},
   "outputs": [
    {
     "name": "stdout",
     "output_type": "stream",
     "text": [
      "/home/svelascodimate/miniconda3/envs/code-check-list/lib/python3.10/site-packages/CodeCheckList/grammars\n"
     ]
    }
   ],
   "source": [
    "from CodeCheckList import loader\n",
    "\n",
    "\"\"\"define language\"\"\"\n",
    "python_language = \"python\"\n",
    "\n",
    "languages = [python_language]\n",
    "\n",
    "loader.download_grammars(languages)"
   ]
  },
  {
   "cell_type": "markdown",
   "metadata": {},
   "source": [
    "### Load Model"
   ]
  },
  {
   "cell_type": "code",
   "execution_count": 5,
   "metadata": {},
   "outputs": [],
   "source": [
    "\n",
    "\"\"\"define the model checkpoint\"\"\"\n",
    "checkpoint = \"huggingface/CodeBERTa-small-v1\""
   ]
  },
  {
   "cell_type": "markdown",
   "metadata": {},
   "source": [
    "### Create Modules"
   ]
  },
  {
   "cell_type": "code",
   "execution_count": 6,
   "metadata": {},
   "outputs": [],
   "source": [
    "from CodeCheckList.tokenizer import CodeTokenizer\n",
    "from CodeCheckList.masker import Masker\n",
    "\n",
    "#create code tokenizer \n",
    "bert_tokenizer = CodeTokenizer.from_pretrained(checkpoint, python_language)\n",
    "\n",
    "#create code masker\n",
    "code_masker = Masker(bert_tokenizer)"
   ]
  },
  {
   "cell_type": "markdown",
   "metadata": {},
   "source": [
    "### Node Types"
   ]
  },
  {
   "cell_type": "code",
   "execution_count": 7,
   "metadata": {},
   "outputs": [
    {
     "name": "stdout",
     "output_type": "stream",
     "text": [
      "['aliased_import', '@', 'relative_import', '|=', '**=', 'exec_statement', '|', 'augmented_assignment', 'lambda_parameters', 'def', '*', ')', 'import_prefix', '_simple_statement', 'tuple_pattern', 'false', '^', 'if_clause', '&', ',', 'as', 'nonlocal', 'yield', '%', 'format_specifier', '-', 'comment', 'not_operator', 'else_clause', 'keyword_argument', 'dictionary_comprehension', '-=', 'ERROR', 'await', '>>=', 'lambda', 'named_expression', 'argument_list', '/', '=', 'dictionary_splat_pattern', 'return_statement', 'decorated_definition', 'escape_sequence', 'class_definition', 'break_statement', 'nonlocal_statement', 'try_statement', 'expression_list', '<<=', '!=', '^=', 'not', 'try', 'pattern', 'as_pattern_target', 'raise_statement', '//=', 'del', 'finally_clause', 'with_statement', '.', 'for', 'integer', 'default_parameter', 'raise', 'none', 'and', '__future__', 'if_statement', 'print_statement', '<>', '>', 'global_statement', 'comparison_operator', 'unary_operator', '}}', 'return', 'function_definition', 'chevron', 'pass_statement', 'list_pattern', '<', 'list', '+=', '\"', 'typed_parameter', '//', 'attribute', 'except', 'conditional_expression', 'decorator', 'parenthesized_list_splat', 'global', 'while', 'ellipsis', '<<', 'parameters', '**', 'wildcard_import', 'with_clause', 'continue', '+', 'case_pattern', '%=', 'type', 'else', '_compound_statement', 'binary_operator', 'match_statement', 'string', 'keyword_separator', 'while_statement', 'true', 'elif_clause', 'delete_statement', '~', 'as_pattern', 'call', ']', 'concatenated_string', '/=', '==', 'continue_statement', 'case', 'async', 'with', 'for_in_clause', 'print', 'expression', '(', 'case_clause', 'tuple', 'pattern_list', 'exec', '&=', '[', 'primary_expression', 'import_from_statement', 'list_comprehension', 'from', 'with_item', '<=', 'finally', 'assert', '>=', 'or', 'assignment', 'interpolation', 'format_expression', '->', 'parenthesized_expression', 'subscript', 'in', 'set', ':', ':=', '}', 'import_statement', '@=', 'class', 'match', '>>', 'generator_expression', 'positional_separator', 'identifier', '{', 'break', 'expression_statement', 'set_comprehension', 'module', '*=', 'is', 'dotted_name', 'pass', 'elif', 'dictionary_splat', 'list_splat', 'if', 'float', 'boolean_operator', 'block', 'for_statement', '{{', 'import', 'assert_statement', 'slice', 'pair', 'except_clause', 'future_import_statement', 'dictionary', ';', 'type_conversion', 'list_splat_pattern', 'typed_default_parameter', 'parameter']\n"
     ]
    }
   ],
   "source": [
    "print(bert_tokenizer.node_types)"
   ]
  },
  {
   "cell_type": "markdown",
   "metadata": {},
   "source": [
    "### Encodings"
   ]
  },
  {
   "cell_type": "code",
   "execution_count": 8,
   "metadata": {},
   "outputs": [
    {
     "name": "stdout",
     "output_type": "stream",
     "text": [
      "def<mask><mask><mask>(<mask>,<mask>):\n",
      "    return<mask>*<mask>\n"
     ]
    }
   ],
   "source": [
    "\"\"\"example source code\"\"\"\n",
    "\n",
    "code = \"def multiply_numbers(a,b):\\n    return a*b\"\n",
    "#code = \"def scale(self, center=True, scale=True):\\n        \\\"\\\"\\\"\\nthe the\\n\\n\\n                                                                                                                                                          _\\n                     ____________=_=_===========________===______________________________==_____________________\\n_______\\n____\\n\\n___\\n\\n\\n\\n\\n\\n\\n\\n\\n        return return)\"\n",
    "#code = \"def hello_world(a,b):\\n    print('hello world')\"\n",
    "#code = \"def __ordered_values_by_indexes(self, data, inds): \\\"\\\"\\\" Return values (intensities) by indexes. Used for multiscale graph cut. data = [[0 1 1], [0 2 2], [0 2 2]] inds = [[0 1 2], [3 4 4], [5 4 4]] return: [0, 1, 1, 0, 2, 0] If the data are not consistent, it will take the maximal value \\\"\\\"\\\" # get unique labels and their first indexes # lab, linds = np.unique(inds, return_index=True) # compute values by indexes # values = data.reshape(-1)[linds] # alternative slow implementation # if there are different data on same index, it will take # maximal value # lab = np.unique(inds) # values = [0]*len(lab) # for label in lab: # values[label] = np.max(data[inds == label]) # # values = np.asarray(values) # yet another implementation values = [None] * (np.max(inds) + 1) linear_inds = inds.ravel() linear_data = data.ravel() for i in range(0, len(linear_inds)): # going over all data pixels if values[linear_inds[i]] is None: # this index is found for first values[linear_inds[i]] = linear_data[i] elif values[linear_inds[i]] < linear_data[i]: # here can be changed maximal or minimal value values[linear_inds[i]] = linear_data[i] values = np.asarray(values) return values\"\n",
    "#code = \"def __ordered_values_by_indexes(self, data, inds):  # get unique labels and their first indexes # lab, linds = np.unique(inds, return_index=True) # compute values by indexes # values = data.reshape(-1)[linds] # alternative slow implementation # if there are different data on same index, it will take # maximal value # lab = np.unique(inds) # values = [0]*len(lab) # for label in lab: # values[label] = np.max(data[inds == label]) # # values = np.asarray(values) # yet another implementation values = [None] * (np.max(inds) + 1) linear_inds = inds.ravel() linear_data = data.ravel() for i in range(0, len(linear_inds)): # going over all data pixels if values[linear_inds[i]] is None: # this index is found for first values[linear_inds[i]] = linear_data[i] elif values[linear_inds[i]] < linear_data[i]: # here can be changed maximal or minimal value values[linear_inds[i]] = linear_data[i] values = np.asarray(values) return values\"\n",
    "target_node_type = \"identifier\"\n",
    "\n",
    "#encoding \n",
    "source_code_encoding = bert_tokenizer(code)\n",
    "\n",
    "#masking\n",
    "masked_code_encoding = code_masker(code, bert_tokenizer(code), bert_tokenizer.node_types.index(target_node_type), 1)\n",
    "\n",
    "assert len(source_code_encoding['input_ids']) == len(masked_code_encoding['input_ids'])\n",
    "\n",
    "#masked code\n",
    "masked_code = bert_tokenizer.tokenizer.decode(list(filter(lambda token_id: False if token_id == bert_tokenizer.tokenizer.bos_token_id or \n",
    "            token_id == bert_tokenizer.tokenizer.eos_token_id else True, masked_code_encoding['input_ids'])))\n",
    "\n",
    "print(masked_code)"
   ]
  },
  {
   "cell_type": "markdown",
   "metadata": {},
   "source": [
    "### Code Prediction"
   ]
  },
  {
   "cell_type": "code",
   "execution_count": 9,
   "metadata": {},
   "outputs": [],
   "source": [
    "from CodeCheckList.predictor import Predictor\n",
    "\n",
    "predictor = Predictor.from_pretrained(checkpoint, bert_tokenizer)\n",
    "predictions = predictor(masked_code_encoding, bert_tokenizer.tokenizer(code, return_tensors='pt'), 5)"
   ]
  },
  {
   "cell_type": "markdown",
   "metadata": {},
   "source": [
    "### Evaluation"
   ]
  },
  {
   "cell_type": "code",
   "execution_count": 10,
   "metadata": {},
   "outputs": [
    {
     "name": "stdout",
     "output_type": "stream",
     "text": [
      "------------- CODE -------------\n",
      "def multiply_numbers(a,b):\n",
      "    return a*b\n",
      "\n",
      "---------- MASKED -------------\n",
      "def<mask><mask><mask>(<mask>,<mask>):\n",
      "    return<mask>*<mask>\n",
      "\n",
      "--------- PREDICTED -----------\n",
      "def __function(name, value):\n",
      "    return f*args\n",
      "\n",
      "--------- AST COMPARE -----------\n",
      "5\n",
      "5\n"
     ]
    }
   ],
   "source": [
    "import CodeCheckList.utils as utils\n",
    "\n",
    "prediction_number = 0\n",
    "print('------------- CODE -------------')\n",
    "print(code)\n",
    "print('\\n---------- MASKED -------------')\n",
    "print(masked_code)\n",
    "print('\\n--------- PREDICTED -----------')\n",
    "predicted_code = predictions[prediction_number]\n",
    "print(predicted_code)\n",
    "print('\\n--------- AST COMPARE -----------')\n",
    "filtered_nodes = []\n",
    "filtered_nodes_predict = []\n",
    "utils.find_nodes(bert_tokenizer.parser.parse(bytes(code, \"utf8\")).root_node, bert_tokenizer.node_types[bert_tokenizer.node_types.index(target_node_type)], filtered_nodes)\n",
    "utils.find_nodes(bert_tokenizer.parser.parse(bytes(predicted_code, \"utf8\")).root_node, bert_tokenizer.node_types[bert_tokenizer.node_types.index(target_node_type)], filtered_nodes_predict)\n",
    "print(len(filtered_nodes))\n",
    "print(len(filtered_nodes_predict))\n",
    "#base the evaluation on size comparison"
   ]
  },
  {
   "cell_type": "markdown",
   "metadata": {},
   "source": [
    "## Testing"
   ]
  },
  {
   "cell_type": "code",
   "execution_count": 11,
   "metadata": {},
   "outputs": [
    {
     "name": "stdout",
     "output_type": "stream",
     "text": [
      "510\n"
     ]
    },
    {
     "name": "stderr",
     "output_type": "stream",
     "text": [
      "No config specified, defaulting to: code_search_net/all\n",
      "Found cached dataset code_search_net (/home/svelascodimate/.cache/huggingface/datasets/code_search_net/all/1.0.0/80a244ab541c6b2125350b764dc5c2b715f65f00de7a56107a28915fac173a27)\n",
      "Parameter 'function'=<function get_test_sets.<locals>.<lambda> at 0x7f118f2636d0> of the transform datasets.arrow_dataset.Dataset.filter@2.0.1 couldn't be hashed properly, a random hash was used instead. Make sure your transforms and parameters are serializable with pickle or dill for the dataset fingerprinting and caching to work. If you reuse this transform, the caching mechanism will consider it to be different from the previous calls and recompute everything. This warning is only showed once. Subsequent hashing failures won't be showed.\n",
      "  0%|          | 0/101 [00:00<?, ?ba/s]Token indices sequence length is longer than the specified maximum sequence length for this model (517 > 512). Running this sequence through the model will result in indexing errors\n",
      "100%|██████████| 101/101 [00:17<00:00,  5.92ba/s]\n"
     ]
    }
   ],
   "source": [
    "from datasets import load_dataset \n",
    "import CodeCheckList.utils as utils\n",
    "\n",
    "\n",
    "evaluator = Evaluator(checkpoint, python_language)\n",
    "\n",
    "max_token_number = bert_tokenizer.tokenizer.max_len_single_sentence\n",
    "print(max_token_number)\n",
    "\n",
    "test_set = load_dataset(\"code_search_net\", split='test')\n",
    "test_set = utils.get_test_sets(test_set, python_language, max_token_number, bert_tokenizer)"
   ]
  },
  {
   "cell_type": "code",
   "execution_count": 12,
   "metadata": {},
   "outputs": [
    {
     "name": "stdout",
     "output_type": "stream",
     "text": [
      "def get_vid_from_url(url):\n",
      "        \"\"\"Extracts video ID from URL.\n",
      "        \"\"\"\n",
      "        return match1(url, r'youtu\\.be/([^?/]+)') or \\\n",
      "          match1(url, r'youtube\\.com/embed/([^/?]+)') or \\\n",
      "          match1(url, r'youtube\\.com/v/([^/?]+)') or \\\n",
      "          match1(url, r'youtube\\.com/watch/([^/?]+)') or \\\n",
      "          parse_query_param(url, 'v') or \\\n",
      "          parse_query_param(parse_query_param(url, 'u'), 'v')\n"
     ]
    }
   ],
   "source": [
    "print(test_set[0]['whole_func_string'])"
   ]
  },
  {
   "cell_type": "code",
   "execution_count": 13,
   "metadata": {},
   "outputs": [
    {
     "name": "stdout",
     "output_type": "stream",
     "text": [
      "TOTAL PYTHON FILTERED SAMPLES: 19408\n"
     ]
    },
    {
     "name": "stderr",
     "output_type": "stream",
     "text": [
      "No config specified, defaulting to: code_search_net/all\n",
      "Found cached dataset code_search_net (/home/svelascodimate/.cache/huggingface/datasets/code_search_net/all/1.0.0/80a244ab541c6b2125350b764dc5c2b715f65f00de7a56107a28915fac173a27)\n",
      "  0%|          | 0/101 [00:00<?, ?ba/s]Token indices sequence length is longer than the specified maximum sequence length for this model (517 > 512). Running this sequence through the model will result in indexing errors\n",
      "100%|██████████| 101/101 [00:17<00:00,  5.83ba/s]\n"
     ]
    },
    {
     "name": "stdout",
     "output_type": "stream",
     "text": [
      "TOTAL SAMPLES TO EVALUATE: 5\n"
     ]
    },
    {
     "data": {
      "text/plain": [
       "5"
      ]
     },
     "execution_count": 13,
     "metadata": {},
     "output_type": "execute_result"
    }
   ],
   "source": [
    "print('TOTAL PYTHON FILTERED SAMPLES: '+str(len(test_set)))\n",
    "test_set = utils.get_random_sub_set_test_set(utils.get_test_sets(load_dataset(\"code_search_net\", split='test'), \"python\", evaluator.tokenizer.tokenizer.max_len_single_sentence, evaluator.tokenizer), 5)\n",
    "print('TOTAL SAMPLES TO EVALUATE: '+str(len(test_set)))\n",
    "len(test_set)"
   ]
  },
  {
   "cell_type": "code",
   "execution_count": 14,
   "metadata": {},
   "outputs": [
    {
     "name": "stdout",
     "output_type": "stream",
     "text": [
      "-------- evaluating sample:0 --------\n",
      "-------- evaluating sample:1 --------\n",
      "-------- evaluating sample:2 --------\n",
      "-------- evaluating sample:3 --------\n",
      "-------- evaluating sample:4 --------\n"
     ]
    },
    {
     "data": {
      "text/html": [
       "<div>\n",
       "<style scoped>\n",
       "    .dataframe tbody tr th:only-of-type {\n",
       "        vertical-align: middle;\n",
       "    }\n",
       "\n",
       "    .dataframe tbody tr th {\n",
       "        vertical-align: top;\n",
       "    }\n",
       "\n",
       "    .dataframe thead th {\n",
       "        text-align: right;\n",
       "    }\n",
       "</style>\n",
       "<table border=\"1\" class=\"dataframe\">\n",
       "  <thead>\n",
       "    <tr style=\"text-align: right;\">\n",
       "      <th></th>\n",
       "      <th>ast_element</th>\n",
       "      <th>occurences</th>\n",
       "      <th>jaccard</th>\n",
       "      <th>sorensen_dice</th>\n",
       "      <th>levenshtein</th>\n",
       "      <th>jaccard_avg</th>\n",
       "      <th>sorensen_dice_avg</th>\n",
       "      <th>levenshtein_avg</th>\n",
       "    </tr>\n",
       "  </thead>\n",
       "  <tbody>\n",
       "    <tr>\n",
       "      <th>165</th>\n",
       "      <td>identifier</td>\n",
       "      <td>116</td>\n",
       "      <td>((1.0, 0.9166666666666666, 0.9010989010989011,...</td>\n",
       "      <td>((1.0, 0.9565217391304348, 0.9479768786127167,...</td>\n",
       "      <td>((1.0, 0.9166666666666666, 0.8901098901098901,...</td>\n",
       "      <td>(0.923, 0.873, 0.817)</td>\n",
       "      <td>(0.959, 0.93, 0.894)</td>\n",
       "      <td>(0.913, 0.864, 0.817)</td>\n",
       "    </tr>\n",
       "    <tr>\n",
       "      <th>85</th>\n",
       "      <td>\"</td>\n",
       "      <td>32</td>\n",
       "      <td>((1.0, 1.0, 1.0, 0.9097222222222222, 1.0), (1....</td>\n",
       "      <td>((1.0, 1.0, 1.0, 0.9527272727272728, 1.0), (1....</td>\n",
       "      <td>((1.0, 1.0, 1.0, 0.9420289855072463, 1.0), (1....</td>\n",
       "      <td>(0.982, 0.958, 0.555)</td>\n",
       "      <td>(0.991, 0.977, 0.681)</td>\n",
       "      <td>(0.988, 0.959, 0.554)</td>\n",
       "    </tr>\n",
       "    <tr>\n",
       "      <th>19</th>\n",
       "      <td>,</td>\n",
       "      <td>28</td>\n",
       "      <td>((1.0, 1.0, 1.0, 1.0, 1.0), (0.775, 0.97058823...</td>\n",
       "      <td>((1.0, 1.0, 1.0, 1.0, 1.0), (0.873239436619718...</td>\n",
       "      <td>((1.0, 1.0, 1.0, 1.0, 1.0), (0.789473684210526...</td>\n",
       "      <td>(1.0, 0.834, 0.85)</td>\n",
       "      <td>(1.0, 0.899, 0.913)</td>\n",
       "      <td>(1.0, 0.848, 0.851)</td>\n",
       "    </tr>\n",
       "    <tr>\n",
       "      <th>168</th>\n",
       "      <td>expression_statement</td>\n",
       "      <td>23</td>\n",
       "      <td>((0.23880597014925375, 0.9420289855072463, 0.5...</td>\n",
       "      <td>((0.3855421686746988, 0.9701492537313433, 0.73...</td>\n",
       "      <td>((0.24242424242424243, 0.9338235294117647, 0.5...</td>\n",
       "      <td>(0.581, 0.468, 0.57)</td>\n",
       "      <td>(0.709, 0.611, 0.724)</td>\n",
       "      <td>(0.575, 0.417, 0.519)</td>\n",
       "    </tr>\n",
       "    <tr>\n",
       "      <th>130</th>\n",
       "      <td>(</td>\n",
       "      <td>19</td>\n",
       "      <td>((1.0, 1.0, 1.0, 1.0, 1.0), (0.783783783783783...</td>\n",
       "      <td>((1.0, 1.0, 1.0, 1.0, 1.0), (0.878787878787878...</td>\n",
       "      <td>((1.0, 1.0, 1.0, 1.0, 1.0), (0.787878787878787...</td>\n",
       "      <td>(1.0, 0.876, 0.955)</td>\n",
       "      <td>(1.0, 0.932, 0.976)</td>\n",
       "      <td>(1.0, 0.87, 0.96)</td>\n",
       "    </tr>\n",
       "    <tr>\n",
       "      <th>...</th>\n",
       "      <td>...</td>\n",
       "      <td>...</td>\n",
       "      <td>...</td>\n",
       "      <td>...</td>\n",
       "      <td>...</td>\n",
       "      <td>...</td>\n",
       "      <td>...</td>\n",
       "      <td>...</td>\n",
       "    </tr>\n",
       "    <tr>\n",
       "      <th>80</th>\n",
       "      <td>pass_statement</td>\n",
       "      <td>0</td>\n",
       "      <td>((), (), ())</td>\n",
       "      <td>((), (), ())</td>\n",
       "      <td>((), (), ())</td>\n",
       "      <td>(0, 0, 0)</td>\n",
       "      <td>(0, 0, 0)</td>\n",
       "      <td>(0, 0, 0)</td>\n",
       "    </tr>\n",
       "    <tr>\n",
       "      <th>81</th>\n",
       "      <td>list_pattern</td>\n",
       "      <td>0</td>\n",
       "      <td>((), (), ())</td>\n",
       "      <td>((), (), ())</td>\n",
       "      <td>((), (), ())</td>\n",
       "      <td>(0, 0, 0)</td>\n",
       "      <td>(0, 0, 0)</td>\n",
       "      <td>(0, 0, 0)</td>\n",
       "    </tr>\n",
       "    <tr>\n",
       "      <th>82</th>\n",
       "      <td>&lt;</td>\n",
       "      <td>0</td>\n",
       "      <td>((), (), ())</td>\n",
       "      <td>((), (), ())</td>\n",
       "      <td>((), (), ())</td>\n",
       "      <td>(0, 0, 0)</td>\n",
       "      <td>(0, 0, 0)</td>\n",
       "      <td>(0, 0, 0)</td>\n",
       "    </tr>\n",
       "    <tr>\n",
       "      <th>86</th>\n",
       "      <td>typed_parameter</td>\n",
       "      <td>0</td>\n",
       "      <td>((), (), ())</td>\n",
       "      <td>((), (), ())</td>\n",
       "      <td>((), (), ())</td>\n",
       "      <td>(0, 0, 0)</td>\n",
       "      <td>(0, 0, 0)</td>\n",
       "      <td>(0, 0, 0)</td>\n",
       "    </tr>\n",
       "    <tr>\n",
       "      <th>195</th>\n",
       "      <td>parameter</td>\n",
       "      <td>0</td>\n",
       "      <td>((), (), ())</td>\n",
       "      <td>((), (), ())</td>\n",
       "      <td>((), (), ())</td>\n",
       "      <td>(0, 0, 0)</td>\n",
       "      <td>(0, 0, 0)</td>\n",
       "      <td>(0, 0, 0)</td>\n",
       "    </tr>\n",
       "  </tbody>\n",
       "</table>\n",
       "<p>196 rows × 8 columns</p>\n",
       "</div>"
      ],
      "text/plain": [
       "              ast_element  occurences  \\\n",
       "165            identifier         116   \n",
       "85                      \"          32   \n",
       "19                      ,          28   \n",
       "168  expression_statement          23   \n",
       "130                     (          19   \n",
       "..                    ...         ...   \n",
       "80         pass_statement           0   \n",
       "81           list_pattern           0   \n",
       "82                      <           0   \n",
       "86        typed_parameter           0   \n",
       "195             parameter           0   \n",
       "\n",
       "                                               jaccard  \\\n",
       "165  ((1.0, 0.9166666666666666, 0.9010989010989011,...   \n",
       "85   ((1.0, 1.0, 1.0, 0.9097222222222222, 1.0), (1....   \n",
       "19   ((1.0, 1.0, 1.0, 1.0, 1.0), (0.775, 0.97058823...   \n",
       "168  ((0.23880597014925375, 0.9420289855072463, 0.5...   \n",
       "130  ((1.0, 1.0, 1.0, 1.0, 1.0), (0.783783783783783...   \n",
       "..                                                 ...   \n",
       "80                                        ((), (), ())   \n",
       "81                                        ((), (), ())   \n",
       "82                                        ((), (), ())   \n",
       "86                                        ((), (), ())   \n",
       "195                                       ((), (), ())   \n",
       "\n",
       "                                         sorensen_dice  \\\n",
       "165  ((1.0, 0.9565217391304348, 0.9479768786127167,...   \n",
       "85   ((1.0, 1.0, 1.0, 0.9527272727272728, 1.0), (1....   \n",
       "19   ((1.0, 1.0, 1.0, 1.0, 1.0), (0.873239436619718...   \n",
       "168  ((0.3855421686746988, 0.9701492537313433, 0.73...   \n",
       "130  ((1.0, 1.0, 1.0, 1.0, 1.0), (0.878787878787878...   \n",
       "..                                                 ...   \n",
       "80                                        ((), (), ())   \n",
       "81                                        ((), (), ())   \n",
       "82                                        ((), (), ())   \n",
       "86                                        ((), (), ())   \n",
       "195                                       ((), (), ())   \n",
       "\n",
       "                                           levenshtein            jaccard_avg  \\\n",
       "165  ((1.0, 0.9166666666666666, 0.8901098901098901,...  (0.923, 0.873, 0.817)   \n",
       "85   ((1.0, 1.0, 1.0, 0.9420289855072463, 1.0), (1....  (0.982, 0.958, 0.555)   \n",
       "19   ((1.0, 1.0, 1.0, 1.0, 1.0), (0.789473684210526...     (1.0, 0.834, 0.85)   \n",
       "168  ((0.24242424242424243, 0.9338235294117647, 0.5...   (0.581, 0.468, 0.57)   \n",
       "130  ((1.0, 1.0, 1.0, 1.0, 1.0), (0.787878787878787...    (1.0, 0.876, 0.955)   \n",
       "..                                                 ...                    ...   \n",
       "80                                        ((), (), ())              (0, 0, 0)   \n",
       "81                                        ((), (), ())              (0, 0, 0)   \n",
       "82                                        ((), (), ())              (0, 0, 0)   \n",
       "86                                        ((), (), ())              (0, 0, 0)   \n",
       "195                                       ((), (), ())              (0, 0, 0)   \n",
       "\n",
       "         sorensen_dice_avg        levenshtein_avg  \n",
       "165   (0.959, 0.93, 0.894)  (0.913, 0.864, 0.817)  \n",
       "85   (0.991, 0.977, 0.681)  (0.988, 0.959, 0.554)  \n",
       "19     (1.0, 0.899, 0.913)    (1.0, 0.848, 0.851)  \n",
       "168  (0.709, 0.611, 0.724)  (0.575, 0.417, 0.519)  \n",
       "130    (1.0, 0.932, 0.976)      (1.0, 0.87, 0.96)  \n",
       "..                     ...                    ...  \n",
       "80               (0, 0, 0)              (0, 0, 0)  \n",
       "81               (0, 0, 0)              (0, 0, 0)  \n",
       "82               (0, 0, 0)              (0, 0, 0)  \n",
       "86               (0, 0, 0)              (0, 0, 0)  \n",
       "195              (0, 0, 0)              (0, 0, 0)  \n",
       "\n",
       "[196 rows x 8 columns]"
      ]
     },
     "execution_count": 14,
     "metadata": {},
     "output_type": "execute_result"
    }
   ],
   "source": [
    "number_of_predictions = 3\n",
    "checkpoint = \"huggingface/CodeBERTa-small-v1\"\n",
    "python_language = \"python\"\n",
    "masking_rate = 1\n",
    "\n",
    "evaluator = Evaluator(checkpoint, python_language, gpu_available=False)\n",
    "\n",
    "results_dataframe = evaluator(test_set, number_of_predictions, masking_rate)\n",
    "\n",
    "results_dataframe.sort_values(by=['occurences'], ascending=False)\n"
   ]
  }
 ],
 "metadata": {
  "kernelspec": {
   "display_name": "Python 3",
   "language": "python",
   "name": "python3"
  },
  "language_info": {
   "codemirror_mode": {
    "name": "ipython",
    "version": 3
   },
   "file_extension": ".py",
   "mimetype": "text/x-python",
   "name": "python",
   "nbconvert_exporter": "python",
   "pygments_lexer": "ipython3",
   "version": "3.10.8"
  },
  "orig_nbformat": 4,
  "vscode": {
   "interpreter": {
    "hash": "5dfa21b9ea908da29bde2e75ccf59a8bff4851a5152f1f941db0158f4a372e7e"
   }
  }
 },
 "nbformat": 4,
 "nbformat_minor": 2
}
