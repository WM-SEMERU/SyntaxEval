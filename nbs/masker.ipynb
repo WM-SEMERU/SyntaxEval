{
 "cells": [
  {
   "attachments": {},
   "cell_type": "markdown",
   "metadata": {},
   "source": [
    "# Masker Module"
   ]
  },
  {
   "cell_type": "code",
   "execution_count": 1,
   "metadata": {},
   "outputs": [],
   "source": [
    "#| default_exp masker"
   ]
  },
  {
   "cell_type": "code",
   "execution_count": 2,
   "metadata": {},
   "outputs": [
    {
     "name": "stderr",
     "output_type": "stream",
     "text": [
      "/home/svelascodimate/miniconda3/envs/code-check-list/lib/python3.10/site-packages/tqdm/auto.py:22: TqdmWarning: IProgress not found. Please update jupyter and ipywidgets. See https://ipywidgets.readthedocs.io/en/stable/user_install.html\n",
      "  from .autonotebook import tqdm as notebook_tqdm\n"
     ]
    }
   ],
   "source": [
    "#| export \n",
    "import CodeCheckList.utils as utils\n",
    "from CodeCheckList.tokenizer import CodeTokenizer\n",
    "from tree_sitter import Parser\n",
    "import random"
   ]
  },
  {
   "cell_type": "code",
   "execution_count": null,
   "metadata": {},
   "outputs": [],
   "source": [
    "#| hide\n",
    "from nbdev.showdoc import *"
   ]
  },
  {
   "cell_type": "code",
   "execution_count": 3,
   "metadata": {},
   "outputs": [],
   "source": [
    "#| export \n",
    "class Masker():\n",
    "    \"\"\"Masker module\"\"\"\n",
    "    def __init__(self, code_tokenizer: CodeTokenizer):\n",
    "        self.code_tokenizer = code_tokenizer\n",
    "\n",
    "    def __call__(\n",
    "    self,                            #self\n",
    "    code: str,                       #source code snippet to mask\n",
    "    encoding: list,                  #list of encodings\n",
    "    target_node_type_id: int,        #target node type id to search, -1: random masking\n",
    "    masking_rate: float,             #masking rate to apply [0-1]\n",
    "    random_masking: float = False,   #random_masking, false by default\n",
    "    ):  \n",
    "        node_mask_id = self.code_tokenizer.tokenizer.mask_token_id\n",
    "        if random_masking:\n",
    "            positions = random.sample(range(len(encoding['input_ids'])), int(masking_rate*len(encoding['input_ids'])))\n",
    "            for idx in positions:\n",
    "                encoding['input_ids'][idx]=node_mask_id\n",
    "            return encoding\n",
    "        tree = self.code_tokenizer.parser.parse(bytes(code, \"utf8\"))\n",
    "        filtered_nodes = []\n",
    "        utils.find_nodes(tree.root_node, self.code_tokenizer.node_types[target_node_type_id], filtered_nodes)\n",
    "        filtered_node_offsets = [(utils.convert_to_offset(node.start_point, code.split(\"\\n\")), \n",
    "            utils.convert_to_offset(node.end_point, code.split(\"\\n\"))) for node in filtered_nodes]\n",
    "        filtered_node_offsets = utils.get_elements_by_percentage(filtered_node_offsets, masking_rate)\n",
    "        for index, offset in enumerate(encoding['offset_mapping']):\n",
    "            for filtered_node_offset in filtered_node_offsets:\n",
    "                if offset[0] >= filtered_node_offset[0] and offset[1]<= filtered_node_offset[1]:\n",
    "                    encoding['input_ids'][index] = node_mask_id\n",
    "        \n",
    "        return encoding"
   ]
  }
 ],
 "metadata": {
  "kernelspec": {
   "display_name": "Python 3.10.8 (conda)",
   "language": "python",
   "name": "python3"
  },
  "language_info": {
   "codemirror_mode": {
    "name": "ipython",
    "version": 3
   },
   "file_extension": ".py",
   "mimetype": "text/x-python",
   "name": "python",
   "nbconvert_exporter": "python",
   "pygments_lexer": "ipython3",
   "version": "3.10.8 (main, Nov  4 2022, 13:48:29) [GCC 11.2.0]"
  },
  "orig_nbformat": 4,
  "vscode": {
   "interpreter": {
    "hash": "5dfa21b9ea908da29bde2e75ccf59a8bff4851a5152f1f941db0158f4a372e7e"
   }
  }
 },
 "nbformat": 4,
 "nbformat_minor": 2
}
