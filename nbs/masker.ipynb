{
 "cells": [
  {
   "cell_type": "markdown",
   "metadata": {},
   "source": [
    "# Masker Module"
   ]
  },
  {
   "cell_type": "code",
   "execution_count": 1,
   "metadata": {},
   "outputs": [],
   "source": [
    "#| default_exp masker"
   ]
  },
  {
   "cell_type": "code",
   "execution_count": 2,
   "metadata": {},
   "outputs": [],
   "source": [
    "#| export \n",
    "import CodeCheckList\n",
    "from CodeCheckList.tokenizer import CodeTokenizer\n",
    "from tree_sitter import Parser"
   ]
  },
  {
   "cell_type": "code",
   "execution_count": 3,
   "metadata": {},
   "outputs": [],
   "source": [
    "#| export \n",
    "def find_nodes(\n",
    "    node,               #Tree sitter ast treee\n",
    "    target_node_type,   #Target node type to search in the tree\n",
    "    results,            #List to append the resutls to\n",
    ") -> None: \n",
    "    \"\"\"Traverses the tree and find the specified node type\"\"\"\n",
    "    if node.type == target_node_type:\n",
    "        results.append(node)\n",
    "        return\n",
    "    for n in node.children:\n",
    "        find_nodes(n, target_node_type, results)"
   ]
  },
  {
   "cell_type": "code",
   "execution_count": 4,
   "metadata": {},
   "outputs": [],
   "source": [
    "#| export\n",
    "def convert_to_offset(\n",
    "    point,              #point to convert\n",
    "    lines: list         #list of lines in the source code\n",
    "    ):\n",
    "        \"\"\"Convert the point to an offset\"\"\"\n",
    "        row, column = point\n",
    "        chars_in_rows = sum(map(len, lines[:row])) + row\n",
    "        chars_in_columns = len(lines[row][:column])\n",
    "        offset = chars_in_rows + chars_in_columns\n",
    "        return offset"
   ]
  },
  {
   "cell_type": "code",
   "execution_count": 6,
   "metadata": {},
   "outputs": [],
   "source": [
    "#| export \n",
    "class Masker():\n",
    "    \"\"\"Masker module\"\"\"\n",
    "    def __init__(self, code_tokenizer: CodeTokenizer):\n",
    "        self.code_tokenizer = code_tokenizer\n",
    "\n",
    "    def __call__(\n",
    "    self,                            #self\n",
    "    code: str,                       #source code snippet to mask\n",
    "    encoding: list,                  #list of encodings\n",
    "    target_node_type_id: int         #target node type id to search \n",
    "    ):  \n",
    "        node_mask_id = self.code_tokenizer.tokenizer.mask_token_id\n",
    "        tree = self.code_tokenizer.parser.parse(bytes(code, \"utf8\"))\n",
    "\n",
    "        filtered_nodes = []\n",
    "        find_nodes(tree.root_node, self.code_tokenizer.node_types[target_node_type_id], filtered_nodes)\n",
    "        filtered_node_offsets = [(convert_to_offset(node.start_point, code.split(\"\\n\")), \n",
    "            convert_to_offset(node.end_point, code.split(\"\\n\"))) for node in filtered_nodes]\n",
    "\n",
    "        for index, offset in enumerate(encoding['offset_mapping']):\n",
    "            for filtered_node_offset in filtered_node_offsets:\n",
    "                if offset[0] >= filtered_node_offset[0] and offset[1]<= filtered_node_offset[1]:\n",
    "                    encoding['input_ids'][index] = node_mask_id\n",
    "        return encoding"
   ]
  }
 ],
 "metadata": {
  "kernelspec": {
   "display_name": "Python 3.10.8 (conda)",
   "language": "python",
   "name": "python3"
  },
  "language_info": {
   "codemirror_mode": {
    "name": "ipython",
    "version": 3
   },
   "file_extension": ".py",
   "mimetype": "text/x-python",
   "name": "python",
   "nbconvert_exporter": "python",
   "pygments_lexer": "ipython3",
   "version": "3.10.8"
  },
  "orig_nbformat": 4,
  "vscode": {
   "interpreter": {
    "hash": "5dfa21b9ea908da29bde2e75ccf59a8bff4851a5152f1f941db0158f4a372e7e"
   }
  }
 },
 "nbformat": 4,
 "nbformat_minor": 2
}
