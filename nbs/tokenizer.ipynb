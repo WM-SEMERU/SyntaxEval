{
 "cells": [
  {
   "cell_type": "markdown",
   "metadata": {},
   "source": [
    "# CODE MODULE"
   ]
  },
  {
   "cell_type": "code",
   "execution_count": 4,
   "metadata": {},
   "outputs": [],
   "source": [
    "#| default_exp tokenizer"
   ]
  },
  {
   "cell_type": "code",
   "execution_count": 10,
   "metadata": {},
   "outputs": [],
   "source": [
    "#| export\n",
    "import CodeCheckList\n",
    "import CodeCheckList.utils as utils\n",
    "\n",
    "import json\n",
    "from transformers import AutoTokenizer\n",
    "from tree_sitter import Language, Parser"
   ]
  },
  {
   "cell_type": "code",
   "execution_count": 6,
   "metadata": {},
   "outputs": [],
   "source": [
    "#| hide\n",
    "from nbdev.showdoc import *"
   ]
  },
  {
   "cell_type": "code",
   "execution_count": 11,
   "metadata": {},
   "outputs": [],
   "source": [
    "#| export\n",
    "def get_token_type(\n",
    "    tok_span: tuple, # (start, end) position of a token in tokenizer\n",
    "    nodes: list,     # list of tree-sitter nodes\n",
    "    lines: list,     # list of lines in the code\n",
    ") -> tuple: # (parent_type, token_type) of the token\n",
    "    \"\"\"Get the parent AST type and token AST type of a token.\"\"\"\n",
    "    def get_node_span(node):\n",
    "        start_span = utils.convert_to_offset(node.start_point, lines)\n",
    "        end_span = utils.convert_to_offset(node.end_point, lines)\n",
    "        return start_span, end_span\n",
    "    \n",
    "    node_spans = [get_node_span(node) for node in nodes]\n",
    "    for i, span in enumerate(node_spans):\n",
    "        if (span[0] <= tok_span[0] and tok_span[0] < span[1]) or (span[0] < tok_span[1] and tok_span[1] <= span[1]):\n",
    "            return nodes[i].parent.type, nodes[i].type"
   ]
  },
  {
   "cell_type": "code",
   "execution_count": 12,
   "metadata": {},
   "outputs": [],
   "source": [
    "#| export\n",
    "class CodeTokenizer():\n",
    "    \"\"\"A tokenizer for code, which aligns the tokens with the AST nodes.\"\"\"\n",
    "    def __init__(self, tokenizer, parser, node_types):\n",
    "        self.tokenizer = tokenizer\n",
    "        self.parser = parser\n",
    "        self.node_types = node_types\n",
    "    \n",
    "    def __call__(self, code):\n",
    "        encoding = self.tokenizer(code, return_offsets_mapping=True)\n",
    "        tree = self.parser.parse(bytes(code, \"utf8\"))\n",
    "        nodes = []\n",
    "        utils.traverse(tree.root_node, nodes)\n",
    "\n",
    "        encoding[\"ast_ids\"] = []\n",
    "        encoding[\"parent_ast_ids\"] = []\n",
    "        for i, (start, end) in enumerate(encoding.offset_mapping):\n",
    "            if encoding[\"input_ids\"][i] in self.tokenizer.all_special_ids:\n",
    "                encoding[\"ast_ids\"].append(-1)\n",
    "                encoding[\"parent_ast_ids\"].append(-1)\n",
    "                continue\n",
    "            if start == None or end == None:\n",
    "                encoding[\"ast_ids\"].append(-1)\n",
    "                encoding[\"parent_ast_ids\"].append(-1)\n",
    "                continue\n",
    "            type_info = get_token_type((start, end), nodes, code.split(\"\\n\"))\n",
    "            if type_info is None:\n",
    "                encoding[\"ast_ids\"].append(-1)\n",
    "                encoding[\"parent_ast_ids\"].append(-1)\n",
    "            else:\n",
    "                parent_node_type, node_type = type_info\n",
    "                try:\n",
    "                    encoding[\"ast_ids\"].append(self.node_types.index(node_type))\n",
    "                    encoding[\"parent_ast_ids\"].append(self.node_types.index(parent_node_type))\n",
    "                except Exception as e:\n",
    "                    print(type_info)\n",
    "                    print(code)\n",
    "                    print(self.tokenizer.decode(encoding[\"input_ids\"][i]))\n",
    "                    encoding[\"ast_ids\"].append(-1)\n",
    "                    encoding[\"parent_ast_ids\"].append(-1)\n",
    "                    raise e\n",
    "            \n",
    "        return encoding\n",
    "\n",
    "    @staticmethod\n",
    "    def from_pretrained(\n",
    "        name_or_path: str,  # name or path of the tokenizer\n",
    "        lang: str,          # language of the tokenizer\n",
    "    ):                      # CodeTokenizer for the given language\n",
    "        \"\"\"Create a CodeTokenizer from a pretrained tokenizer for a given language.\"\"\"\n",
    "        tokenizer = AutoTokenizer.from_pretrained(name_or_path)\n",
    "\n",
    "        # Grab the node types from the tree-sitter language\n",
    "        language = Language(f\"{CodeCheckList.__path__[0]}/grammars/tree-sitter-languages.so\", lang)\n",
    "        node_path = f\"{CodeCheckList.__path__[0]}/grammars/tree-sitter-{lang}/src/node-types.json\"\n",
    "        with open(node_path) as f:\n",
    "            node_types = json.load(f)\n",
    "        node_types = utils.unroll_node_types(node_types)\n",
    "\n",
    "        # Create a parser for the language\n",
    "        parser = Parser()\n",
    "        parser.set_language(language)\n",
    "        \n",
    "        return CodeTokenizer(tokenizer, parser, node_types)"
   ]
  },
  {
   "cell_type": "code",
   "execution_count": 13,
   "metadata": {},
   "outputs": [
    {
     "name": "stdout",
     "output_type": "stream",
     "text": [
      "{'input_ids': [4299, 22944, 33529, 198, 220, 220, 220, 3601, 10786, 31373, 995, 11537], 'attention_mask': [1, 1, 1, 1, 1, 1, 1, 1, 1, 1, 1, 1], 'offset_mapping': [(0, 3), (3, 7), (7, 10), (10, 11), (11, 12), (12, 13), (13, 14), (14, 20), (20, 22), (22, 27), (27, 33), (33, 35)], 'ast_ids': [136, 99, 10, -1, -1, -1, -1, 99, 10, 89, 89, 89], 'parent_ast_ids': [69, 69, 115, -1, -1, -1, -1, 114, 101, 101, 101, 101]}\n",
      "['def', 'Ġfoo', '():', 'Ċ', 'Ġ', 'Ġ', 'Ġ', 'Ġprint', \"('\", 'hello', 'Ġworld', \"')\"]\n"
     ]
    }
   ],
   "source": [
    "# test the tokenizer\n",
    "py_tokenizer = CodeTokenizer.from_pretrained(\"gpt2\", \"python\")\n",
    "code = \"def foo():\\n    print('hello world')\"\n",
    "\n",
    "encoding = py_tokenizer(code)\n",
    "\n",
    "assert \"ast_ids\" in encoding\n",
    "assert \"parent_ast_ids\" in encoding\n",
    "assert len(encoding[\"ast_ids\"]) == len(encoding[\"input_ids\"])\n",
    "assert len(encoding[\"parent_ast_ids\"]) == len(encoding[\"input_ids\"])\n",
    "\n",
    "print(encoding)\n",
    "print(py_tokenizer.tokenizer.convert_ids_to_tokens(encoding[\"input_ids\"]))"
   ]
  }
 ],
 "metadata": {
  "kernelspec": {
   "display_name": "Python 3.10.8 (conda)",
   "language": "python",
   "name": "python3"
  },
  "language_info": {
   "codemirror_mode": {
    "name": "ipython",
    "version": 3
   },
   "file_extension": ".py",
   "mimetype": "text/x-python",
   "name": "python",
   "nbconvert_exporter": "python",
   "pygments_lexer": "ipython3",
   "version": "3.10.8"
  },
  "vscode": {
   "interpreter": {
    "hash": "5dfa21b9ea908da29bde2e75ccf59a8bff4851a5152f1f941db0158f4a372e7e"
   }
  }
 },
 "nbformat": 4,
 "nbformat_minor": 4
}
